{
  "cells": [
    {
      "cell_type": "markdown",
      "metadata": {
        "id": "view-in-github",
        "colab_type": "text"
      },
      "source": [
        "<a href=\"https://colab.research.google.com/github/sphzh/DataBootcampFinalProject/blob/master/Sophie_Zhu_LinearAlgebra_project.ipynb\" target=\"_parent\"><img src=\"https://colab.research.google.com/assets/colab-badge.svg\" alt=\"Open In Colab\"/></a>"
      ]
    },
    {
      "cell_type": "markdown",
      "metadata": {
        "id": "lnQg29DXnNMt"
      },
      "source": [
        "Please follow the instructions carefully. Write all your code in a `Code` cell, and your explanations in a `Markdown` cell. Make sure that your code compiles correctly either by selecting a given cell and clicking the `Run` button, or by hitting `shift`+`enter` or `shift`+`return`."
      ]
    },
    {
      "cell_type": "markdown",
      "metadata": {
        "id": "MGS0XEWoL9er"
      },
      "source": [
        "### 1. Import `numpy`, `numpy.linalg`, `matplotlib.pyplot`, and `pandas`. Use the appropriate aliases when importing these modules."
      ]
    },
    {
      "cell_type": "code",
      "execution_count": null,
      "metadata": {
        "id": "KheDr_zDL9es"
      },
      "outputs": [],
      "source": [
        "# code for question 1\n",
        "import numpy as np\n",
        "import numpy.linalg as la             \n",
        "import matplotlib.pyplot as plt\n",
        "%matplotlib inline\n",
        "import pandas as pd"
      ]
    },
    {
      "cell_type": "markdown",
      "metadata": {
        "id": "2SsnOdHnnNM1"
      },
      "source": [
        "### 2. Load the data from the file named `data_stock_returns.csv` into a `DatFrame` called `returns`. The file `data_stock_returns.csv` contains daily returns of a number of stocks selected from the S&P 500 universe. The rows of the csv file represent the returns over a number of days, and the columns represent individual stocks labeled by their NYSE ticker symbol, e.g., Apple stock is labeled `AAPL`."
      ]
    },
    {
      "cell_type": "code",
      "source": [
        "from google.colab import drive\n",
        "drive.mount('/content/drive')"
      ],
      "metadata": {
        "colab": {
          "base_uri": "https://localhost:8080/"
        },
        "id": "VmDHamBPpqCe",
        "outputId": "4423a636-6137-49ed-8903-157221af25db"
      },
      "execution_count": null,
      "outputs": [
        {
          "output_type": "stream",
          "name": "stdout",
          "text": [
            "Mounted at /content/drive\n"
          ]
        }
      ]
    },
    {
      "cell_type": "code",
      "execution_count": null,
      "metadata": {
        "id": "VGtLzB22nNM1"
      },
      "outputs": [],
      "source": [
        "# code for question 2\n",
        "returns = pd.read_csv('/content/drive/MyDrive/LinAlg/data_stock_returns.csv').set_index('Date')"
      ]
    },
    {
      "cell_type": "markdown",
      "metadata": {
        "id": "FbMVr2YVnNM1"
      },
      "source": [
        "### 3. View the `head` of the `returns` `DataFrame`"
      ]
    },
    {
      "cell_type": "code",
      "execution_count": null,
      "metadata": {
        "colab": {
          "base_uri": "https://localhost:8080/",
          "height": 373
        },
        "id": "iJ4SkmrrnNM2",
        "outputId": "35b24b2c-ec8f-4294-9357-a0d6ab78885d"
      },
      "outputs": [
        {
          "output_type": "execute_result",
          "data": {
            "text/html": [
              "<div>\n",
              "<style scoped>\n",
              "    .dataframe tbody tr th:only-of-type {\n",
              "        vertical-align: middle;\n",
              "    }\n",
              "\n",
              "    .dataframe tbody tr th {\n",
              "        vertical-align: top;\n",
              "    }\n",
              "\n",
              "    .dataframe thead th {\n",
              "        text-align: right;\n",
              "    }\n",
              "</style>\n",
              "<table border=\"1\" class=\"dataframe\">\n",
              "  <thead>\n",
              "    <tr style=\"text-align: right;\">\n",
              "      <th></th>\n",
              "      <th>ATVI</th>\n",
              "      <th>CHTR</th>\n",
              "      <th>CMCSA</th>\n",
              "      <th>CTL</th>\n",
              "      <th>DIS</th>\n",
              "      <th>DISCA</th>\n",
              "      <th>DISCK</th>\n",
              "      <th>DISH</th>\n",
              "      <th>EA</th>\n",
              "      <th>FB</th>\n",
              "      <th>GOOG</th>\n",
              "      <th>GOOGL</th>\n",
              "      <th>IPG</th>\n",
              "      <th>LYV</th>\n",
              "      <th>NFLX</th>\n",
              "      <th>NWS</th>\n",
              "      <th>NWSA</th>\n",
              "      <th>OMC</th>\n",
              "      <th>T</th>\n",
              "      <th>TMUS</th>\n",
              "      <th>TTWO</th>\n",
              "      <th>TWTR</th>\n",
              "      <th>VZ</th>\n",
              "      <th>AAP</th>\n",
              "      <th>AMZN</th>\n",
              "      <th>APTV</th>\n",
              "      <th>AZO</th>\n",
              "      <th>BBY</th>\n",
              "      <th>BKNG</th>\n",
              "      <th>BWA</th>\n",
              "      <th>CCL</th>\n",
              "      <th>CMG</th>\n",
              "      <th>DG</th>\n",
              "      <th>DHI</th>\n",
              "      <th>DLTR</th>\n",
              "      <th>DPZ</th>\n",
              "      <th>DRI</th>\n",
              "      <th>EBAY</th>\n",
              "      <th>EXPE</th>\n",
              "      <th>F</th>\n",
              "      <th>...</th>\n",
              "      <th>PEAK</th>\n",
              "      <th>PLD</th>\n",
              "      <th>PSA</th>\n",
              "      <th>REG</th>\n",
              "      <th>SBAC</th>\n",
              "      <th>SLG</th>\n",
              "      <th>SPG</th>\n",
              "      <th>UDR</th>\n",
              "      <th>VNO</th>\n",
              "      <th>VTR</th>\n",
              "      <th>WELL</th>\n",
              "      <th>WY</th>\n",
              "      <th>AEE</th>\n",
              "      <th>AEP</th>\n",
              "      <th>AES</th>\n",
              "      <th>ATO</th>\n",
              "      <th>AWK</th>\n",
              "      <th>CMS</th>\n",
              "      <th>CNP</th>\n",
              "      <th>D</th>\n",
              "      <th>DTE</th>\n",
              "      <th>DUK</th>\n",
              "      <th>ED</th>\n",
              "      <th>EIX</th>\n",
              "      <th>ES</th>\n",
              "      <th>ETR</th>\n",
              "      <th>EVRG</th>\n",
              "      <th>EXC</th>\n",
              "      <th>FE</th>\n",
              "      <th>LNT</th>\n",
              "      <th>NEE</th>\n",
              "      <th>NI</th>\n",
              "      <th>NRG</th>\n",
              "      <th>PEG</th>\n",
              "      <th>PNW</th>\n",
              "      <th>PPL</th>\n",
              "      <th>SO</th>\n",
              "      <th>SRE</th>\n",
              "      <th>WEC</th>\n",
              "      <th>XEL</th>\n",
              "    </tr>\n",
              "    <tr>\n",
              "      <th>Date</th>\n",
              "      <th></th>\n",
              "      <th></th>\n",
              "      <th></th>\n",
              "      <th></th>\n",
              "      <th></th>\n",
              "      <th></th>\n",
              "      <th></th>\n",
              "      <th></th>\n",
              "      <th></th>\n",
              "      <th></th>\n",
              "      <th></th>\n",
              "      <th></th>\n",
              "      <th></th>\n",
              "      <th></th>\n",
              "      <th></th>\n",
              "      <th></th>\n",
              "      <th></th>\n",
              "      <th></th>\n",
              "      <th></th>\n",
              "      <th></th>\n",
              "      <th></th>\n",
              "      <th></th>\n",
              "      <th></th>\n",
              "      <th></th>\n",
              "      <th></th>\n",
              "      <th></th>\n",
              "      <th></th>\n",
              "      <th></th>\n",
              "      <th></th>\n",
              "      <th></th>\n",
              "      <th></th>\n",
              "      <th></th>\n",
              "      <th></th>\n",
              "      <th></th>\n",
              "      <th></th>\n",
              "      <th></th>\n",
              "      <th></th>\n",
              "      <th></th>\n",
              "      <th></th>\n",
              "      <th></th>\n",
              "      <th></th>\n",
              "      <th></th>\n",
              "      <th></th>\n",
              "      <th></th>\n",
              "      <th></th>\n",
              "      <th></th>\n",
              "      <th></th>\n",
              "      <th></th>\n",
              "      <th></th>\n",
              "      <th></th>\n",
              "      <th></th>\n",
              "      <th></th>\n",
              "      <th></th>\n",
              "      <th></th>\n",
              "      <th></th>\n",
              "      <th></th>\n",
              "      <th></th>\n",
              "      <th></th>\n",
              "      <th></th>\n",
              "      <th></th>\n",
              "      <th></th>\n",
              "      <th></th>\n",
              "      <th></th>\n",
              "      <th></th>\n",
              "      <th></th>\n",
              "      <th></th>\n",
              "      <th></th>\n",
              "      <th></th>\n",
              "      <th></th>\n",
              "      <th></th>\n",
              "      <th></th>\n",
              "      <th></th>\n",
              "      <th></th>\n",
              "      <th></th>\n",
              "      <th></th>\n",
              "      <th></th>\n",
              "      <th></th>\n",
              "      <th></th>\n",
              "      <th></th>\n",
              "      <th></th>\n",
              "      <th></th>\n",
              "    </tr>\n",
              "  </thead>\n",
              "  <tbody>\n",
              "    <tr>\n",
              "      <th>2019-01-02</th>\n",
              "      <td>0.009829</td>\n",
              "      <td>0.010542</td>\n",
              "      <td>0.009354</td>\n",
              "      <td>0.018961</td>\n",
              "      <td>-0.006221</td>\n",
              "      <td>0.043115</td>\n",
              "      <td>0.031979</td>\n",
              "      <td>0.035795</td>\n",
              "      <td>0.018333</td>\n",
              "      <td>0.034415</td>\n",
              "      <td>0.009839</td>\n",
              "      <td>0.009259</td>\n",
              "      <td>-0.019085</td>\n",
              "      <td>-0.019271</td>\n",
              "      <td>0.000000</td>\n",
              "      <td>0.005181</td>\n",
              "      <td>0.003518</td>\n",
              "      <td>-0.007263</td>\n",
              "      <td>0.034439</td>\n",
              "      <td>0.025609</td>\n",
              "      <td>0.010341</td>\n",
              "      <td>0.002433</td>\n",
              "      <td>-0.003564</td>\n",
              "      <td>0.002917</td>\n",
              "      <td>0.024440</td>\n",
              "      <td>-0.006845</td>\n",
              "      <td>0.000167</td>\n",
              "      <td>0.012012</td>\n",
              "      <td>-0.000418</td>\n",
              "      <td>0.011164</td>\n",
              "      <td>0.011095</td>\n",
              "      <td>0.026443</td>\n",
              "      <td>-0.003429</td>\n",
              "      <td>0.017446</td>\n",
              "      <td>0.009696</td>\n",
              "      <td>-0.019093</td>\n",
              "      <td>0.000701</td>\n",
              "      <td>0.027409</td>\n",
              "      <td>-0.005965</td>\n",
              "      <td>0.032157</td>\n",
              "      <td>...</td>\n",
              "      <td>-0.034605</td>\n",
              "      <td>-0.029203</td>\n",
              "      <td>-0.036988</td>\n",
              "      <td>-0.032386</td>\n",
              "      <td>-0.007067</td>\n",
              "      <td>-0.016576</td>\n",
              "      <td>-0.017898</td>\n",
              "      <td>-0.031537</td>\n",
              "      <td>-0.027291</td>\n",
              "      <td>-0.028917</td>\n",
              "      <td>-0.031019</td>\n",
              "      <td>-0.015211</td>\n",
              "      <td>-0.026407</td>\n",
              "      <td>-0.024378</td>\n",
              "      <td>-0.019554</td>\n",
              "      <td>-0.031443</td>\n",
              "      <td>-0.022280</td>\n",
              "      <td>-0.027360</td>\n",
              "      <td>-0.008181</td>\n",
              "      <td>-0.003926</td>\n",
              "      <td>-0.022092</td>\n",
              "      <td>-0.018714</td>\n",
              "      <td>-0.017415</td>\n",
              "      <td>-0.000352</td>\n",
              "      <td>-0.024120</td>\n",
              "      <td>-0.024344</td>\n",
              "      <td>-0.015801</td>\n",
              "      <td>-0.023103</td>\n",
              "      <td>-0.022352</td>\n",
              "      <td>-0.026380</td>\n",
              "      <td>-0.023222</td>\n",
              "      <td>-0.011107</td>\n",
              "      <td>-0.038352</td>\n",
              "      <td>-0.023718</td>\n",
              "      <td>-0.027728</td>\n",
              "      <td>-0.007796</td>\n",
              "      <td>-0.004564</td>\n",
              "      <td>-0.013306</td>\n",
              "      <td>-0.024556</td>\n",
              "      <td>-0.021542</td>\n",
              "    </tr>\n",
              "    <tr>\n",
              "      <th>2019-01-03</th>\n",
              "      <td>-0.036155</td>\n",
              "      <td>-0.001703</td>\n",
              "      <td>0.007825</td>\n",
              "      <td>0.004524</td>\n",
              "      <td>-0.024525</td>\n",
              "      <td>-0.005824</td>\n",
              "      <td>0.002515</td>\n",
              "      <td>0.020651</td>\n",
              "      <td>-0.020871</td>\n",
              "      <td>-0.029469</td>\n",
              "      <td>-0.028898</td>\n",
              "      <td>-0.028086</td>\n",
              "      <td>0.007874</td>\n",
              "      <td>-0.012917</td>\n",
              "      <td>0.013139</td>\n",
              "      <td>-0.013004</td>\n",
              "      <td>-0.009705</td>\n",
              "      <td>-0.015803</td>\n",
              "      <td>0.001353</td>\n",
              "      <td>-0.003684</td>\n",
              "      <td>-0.047853</td>\n",
              "      <td>-0.028875</td>\n",
              "      <td>0.003564</td>\n",
              "      <td>0.030741</td>\n",
              "      <td>-0.025566</td>\n",
              "      <td>-0.012010</td>\n",
              "      <td>0.008432</td>\n",
              "      <td>-0.020736</td>\n",
              "      <td>-0.034617</td>\n",
              "      <td>-0.030638</td>\n",
              "      <td>-0.051029</td>\n",
              "      <td>-0.008858</td>\n",
              "      <td>0.001206</td>\n",
              "      <td>-0.003977</td>\n",
              "      <td>-0.004836</td>\n",
              "      <td>-0.014949</td>\n",
              "      <td>-0.016243</td>\n",
              "      <td>-0.018542</td>\n",
              "      <td>-0.031386</td>\n",
              "      <td>-0.015306</td>\n",
              "      <td>...</td>\n",
              "      <td>0.035321</td>\n",
              "      <td>-0.008099</td>\n",
              "      <td>0.018992</td>\n",
              "      <td>0.001407</td>\n",
              "      <td>0.011074</td>\n",
              "      <td>-0.004123</td>\n",
              "      <td>-0.000849</td>\n",
              "      <td>0.004937</td>\n",
              "      <td>-0.002654</td>\n",
              "      <td>0.016725</td>\n",
              "      <td>0.018260</td>\n",
              "      <td>0.033344</td>\n",
              "      <td>0.002515</td>\n",
              "      <td>-0.002333</td>\n",
              "      <td>-0.000705</td>\n",
              "      <td>0.007540</td>\n",
              "      <td>0.003935</td>\n",
              "      <td>0.001861</td>\n",
              "      <td>0.005698</td>\n",
              "      <td>-0.004788</td>\n",
              "      <td>0.004162</td>\n",
              "      <td>-0.000354</td>\n",
              "      <td>0.002525</td>\n",
              "      <td>0.001585</td>\n",
              "      <td>-0.000630</td>\n",
              "      <td>0.002022</td>\n",
              "      <td>-0.003765</td>\n",
              "      <td>0.001134</td>\n",
              "      <td>-0.000273</td>\n",
              "      <td>0.001700</td>\n",
              "      <td>-0.002476</td>\n",
              "      <td>0.001196</td>\n",
              "      <td>-0.009491</td>\n",
              "      <td>-0.000197</td>\n",
              "      <td>0.010085</td>\n",
              "      <td>-0.003564</td>\n",
              "      <td>0.014082</td>\n",
              "      <td>0.004579</td>\n",
              "      <td>0.002660</td>\n",
              "      <td>-0.003948</td>\n",
              "    </tr>\n",
              "    <tr>\n",
              "      <th>2019-01-04</th>\n",
              "      <td>0.039127</td>\n",
              "      <td>0.051651</td>\n",
              "      <td>0.033218</td>\n",
              "      <td>0.027974</td>\n",
              "      <td>0.030381</td>\n",
              "      <td>0.017754</td>\n",
              "      <td>0.019072</td>\n",
              "      <td>0.068034</td>\n",
              "      <td>0.070034</td>\n",
              "      <td>0.046061</td>\n",
              "      <td>0.052390</td>\n",
              "      <td>0.050021</td>\n",
              "      <td>0.016047</td>\n",
              "      <td>0.047301</td>\n",
              "      <td>0.092793</td>\n",
              "      <td>0.042705</td>\n",
              "      <td>0.042523</td>\n",
              "      <td>0.024430</td>\n",
              "      <td>0.025369</td>\n",
              "      <td>0.037285</td>\n",
              "      <td>0.025393</td>\n",
              "      <td>0.067682</td>\n",
              "      <td>0.002487</td>\n",
              "      <td>-0.025121</td>\n",
              "      <td>0.048851</td>\n",
              "      <td>0.035764</td>\n",
              "      <td>-0.011837</td>\n",
              "      <td>0.004751</td>\n",
              "      <td>0.032204</td>\n",
              "      <td>0.036881</td>\n",
              "      <td>0.055033</td>\n",
              "      <td>0.034773</td>\n",
              "      <td>0.008587</td>\n",
              "      <td>0.045083</td>\n",
              "      <td>0.023197</td>\n",
              "      <td>0.016181</td>\n",
              "      <td>0.030846</td>\n",
              "      <td>0.022692</td>\n",
              "      <td>0.041249</td>\n",
              "      <td>0.037836</td>\n",
              "      <td>...</td>\n",
              "      <td>0.000715</td>\n",
              "      <td>0.024964</td>\n",
              "      <td>-0.011128</td>\n",
              "      <td>0.003685</td>\n",
              "      <td>0.002458</td>\n",
              "      <td>0.024485</td>\n",
              "      <td>0.015110</td>\n",
              "      <td>-0.001557</td>\n",
              "      <td>0.016638</td>\n",
              "      <td>-0.004849</td>\n",
              "      <td>-0.003655</td>\n",
              "      <td>0.033572</td>\n",
              "      <td>0.014032</td>\n",
              "      <td>0.009165</td>\n",
              "      <td>0.032630</td>\n",
              "      <td>0.012732</td>\n",
              "      <td>0.007490</td>\n",
              "      <td>0.009255</td>\n",
              "      <td>0.018298</td>\n",
              "      <td>0.019155</td>\n",
              "      <td>0.015115</td>\n",
              "      <td>0.008233</td>\n",
              "      <td>0.016066</td>\n",
              "      <td>0.027418</td>\n",
              "      <td>0.010036</td>\n",
              "      <td>0.007457</td>\n",
              "      <td>0.003944</td>\n",
              "      <td>0.011269</td>\n",
              "      <td>0.012453</td>\n",
              "      <td>0.012057</td>\n",
              "      <td>0.018249</td>\n",
              "      <td>0.017378</td>\n",
              "      <td>0.033601</td>\n",
              "      <td>0.010764</td>\n",
              "      <td>0.012229</td>\n",
              "      <td>0.030242</td>\n",
              "      <td>0.008310</td>\n",
              "      <td>0.029491</td>\n",
              "      <td>0.007352</td>\n",
              "      <td>0.009738</td>\n",
              "    </tr>\n",
              "    <tr>\n",
              "      <th>2019-01-07</th>\n",
              "      <td>0.027806</td>\n",
              "      <td>-0.004204</td>\n",
              "      <td>-0.010668</td>\n",
              "      <td>0.021706</td>\n",
              "      <td>0.008630</td>\n",
              "      <td>0.014810</td>\n",
              "      <td>0.014271</td>\n",
              "      <td>0.011252</td>\n",
              "      <td>0.036862</td>\n",
              "      <td>0.000725</td>\n",
              "      <td>-0.002169</td>\n",
              "      <td>-0.001996</td>\n",
              "      <td>0.024304</td>\n",
              "      <td>0.017840</td>\n",
              "      <td>0.058002</td>\n",
              "      <td>0.019868</td>\n",
              "      <td>0.017685</td>\n",
              "      <td>0.005711</td>\n",
              "      <td>0.017965</td>\n",
              "      <td>0.013978</td>\n",
              "      <td>0.026298</td>\n",
              "      <td>0.045366</td>\n",
              "      <td>0.006367</td>\n",
              "      <td>0.014565</td>\n",
              "      <td>0.033776</td>\n",
              "      <td>0.015057</td>\n",
              "      <td>-0.016056</td>\n",
              "      <td>0.055493</td>\n",
              "      <td>-0.003342</td>\n",
              "      <td>0.025693</td>\n",
              "      <td>0.011719</td>\n",
              "      <td>0.064161</td>\n",
              "      <td>0.040291</td>\n",
              "      <td>0.017532</td>\n",
              "      <td>0.053143</td>\n",
              "      <td>0.011550</td>\n",
              "      <td>0.024741</td>\n",
              "      <td>0.017112</td>\n",
              "      <td>0.012915</td>\n",
              "      <td>0.025658</td>\n",
              "      <td>...</td>\n",
              "      <td>0.011729</td>\n",
              "      <td>0.016077</td>\n",
              "      <td>-0.002801</td>\n",
              "      <td>0.009760</td>\n",
              "      <td>0.010075</td>\n",
              "      <td>0.028930</td>\n",
              "      <td>0.010460</td>\n",
              "      <td>0.002075</td>\n",
              "      <td>0.018934</td>\n",
              "      <td>0.005540</td>\n",
              "      <td>0.011793</td>\n",
              "      <td>0.019786</td>\n",
              "      <td>-0.011523</td>\n",
              "      <td>-0.005598</td>\n",
              "      <td>0.004770</td>\n",
              "      <td>-0.007334</td>\n",
              "      <td>-0.010637</td>\n",
              "      <td>-0.005131</td>\n",
              "      <td>0.003828</td>\n",
              "      <td>-0.009741</td>\n",
              "      <td>-0.003369</td>\n",
              "      <td>-0.004226</td>\n",
              "      <td>-0.014606</td>\n",
              "      <td>-0.018660</td>\n",
              "      <td>-0.002500</td>\n",
              "      <td>-0.004728</td>\n",
              "      <td>0.001073</td>\n",
              "      <td>0.001791</td>\n",
              "      <td>0.012566</td>\n",
              "      <td>-0.006975</td>\n",
              "      <td>-0.001450</td>\n",
              "      <td>0.005467</td>\n",
              "      <td>0.009179</td>\n",
              "      <td>0.002139</td>\n",
              "      <td>-0.001890</td>\n",
              "      <td>0.001384</td>\n",
              "      <td>-0.002239</td>\n",
              "      <td>-0.000181</td>\n",
              "      <td>-0.004552</td>\n",
              "      <td>-0.004339</td>\n",
              "    </tr>\n",
              "    <tr>\n",
              "      <th>2019-01-08</th>\n",
              "      <td>0.029859</td>\n",
              "      <td>-0.002524</td>\n",
              "      <td>0.008152</td>\n",
              "      <td>0.025441</td>\n",
              "      <td>0.007748</td>\n",
              "      <td>0.026410</td>\n",
              "      <td>0.020041</td>\n",
              "      <td>0.002793</td>\n",
              "      <td>0.016194</td>\n",
              "      <td>0.031937</td>\n",
              "      <td>0.007358</td>\n",
              "      <td>0.008745</td>\n",
              "      <td>0.030144</td>\n",
              "      <td>0.023494</td>\n",
              "      <td>0.015513</td>\n",
              "      <td>0.009788</td>\n",
              "      <td>0.014913</td>\n",
              "      <td>0.016671</td>\n",
              "      <td>0.012547</td>\n",
              "      <td>-0.009838</td>\n",
              "      <td>0.033065</td>\n",
              "      <td>0.014571</td>\n",
              "      <td>0.028846</td>\n",
              "      <td>-0.006975</td>\n",
              "      <td>0.016476</td>\n",
              "      <td>0.052700</td>\n",
              "      <td>-0.013405</td>\n",
              "      <td>0.028988</td>\n",
              "      <td>-0.014653</td>\n",
              "      <td>0.030947</td>\n",
              "      <td>0.024577</td>\n",
              "      <td>0.024876</td>\n",
              "      <td>0.004770</td>\n",
              "      <td>-0.004019</td>\n",
              "      <td>0.006512</td>\n",
              "      <td>-0.017273</td>\n",
              "      <td>0.016034</td>\n",
              "      <td>0.017825</td>\n",
              "      <td>0.020819</td>\n",
              "      <td>0.009604</td>\n",
              "      <td>...</td>\n",
              "      <td>0.010895</td>\n",
              "      <td>0.032713</td>\n",
              "      <td>0.017795</td>\n",
              "      <td>0.020938</td>\n",
              "      <td>0.016092</td>\n",
              "      <td>0.039475</td>\n",
              "      <td>0.023605</td>\n",
              "      <td>0.022542</td>\n",
              "      <td>0.025951</td>\n",
              "      <td>0.009964</td>\n",
              "      <td>0.017504</td>\n",
              "      <td>0.005945</td>\n",
              "      <td>0.015695</td>\n",
              "      <td>0.012248</td>\n",
              "      <td>0.022850</td>\n",
              "      <td>0.012990</td>\n",
              "      <td>0.014527</td>\n",
              "      <td>0.014909</td>\n",
              "      <td>0.018924</td>\n",
              "      <td>0.011540</td>\n",
              "      <td>0.008810</td>\n",
              "      <td>0.012508</td>\n",
              "      <td>0.006079</td>\n",
              "      <td>0.005565</td>\n",
              "      <td>0.018136</td>\n",
              "      <td>0.017616</td>\n",
              "      <td>0.011727</td>\n",
              "      <td>0.015318</td>\n",
              "      <td>0.014244</td>\n",
              "      <td>0.015330</td>\n",
              "      <td>0.007287</td>\n",
              "      <td>0.018519</td>\n",
              "      <td>0.015114</td>\n",
              "      <td>0.003878</td>\n",
              "      <td>0.014904</td>\n",
              "      <td>0.013059</td>\n",
              "      <td>0.028071</td>\n",
              "      <td>0.027595</td>\n",
              "      <td>0.010249</td>\n",
              "      <td>0.011530</td>\n",
              "    </tr>\n",
              "  </tbody>\n",
              "</table>\n",
              "<p>5 rows × 488 columns</p>\n",
              "</div>"
            ],
            "text/plain": [
              "                ATVI      CHTR     CMCSA  ...       SRE       WEC       XEL\n",
              "Date                                      ...                              \n",
              "2019-01-02  0.009829  0.010542  0.009354  ... -0.013306 -0.024556 -0.021542\n",
              "2019-01-03 -0.036155 -0.001703  0.007825  ...  0.004579  0.002660 -0.003948\n",
              "2019-01-04  0.039127  0.051651  0.033218  ...  0.029491  0.007352  0.009738\n",
              "2019-01-07  0.027806 -0.004204 -0.010668  ... -0.000181 -0.004552 -0.004339\n",
              "2019-01-08  0.029859 -0.002524  0.008152  ...  0.027595  0.010249  0.011530\n",
              "\n",
              "[5 rows x 488 columns]"
            ]
          },
          "metadata": {},
          "execution_count": 4
        }
      ],
      "source": [
        "# code for question 3\n",
        "returns.head()"
      ]
    },
    {
      "cell_type": "markdown",
      "metadata": {
        "id": "8uRUAvHqnNM2"
      },
      "source": [
        "### 4. View the `tail` of the `returns` `DataFrame`"
      ]
    },
    {
      "cell_type": "code",
      "execution_count": null,
      "metadata": {
        "colab": {
          "base_uri": "https://localhost:8080/",
          "height": 373
        },
        "id": "qoELInAcnNM2",
        "outputId": "e8cc1928-3612-4058-c0ea-a0363714f01c"
      },
      "outputs": [
        {
          "output_type": "execute_result",
          "data": {
            "text/html": [
              "<div>\n",
              "<style scoped>\n",
              "    .dataframe tbody tr th:only-of-type {\n",
              "        vertical-align: middle;\n",
              "    }\n",
              "\n",
              "    .dataframe tbody tr th {\n",
              "        vertical-align: top;\n",
              "    }\n",
              "\n",
              "    .dataframe thead th {\n",
              "        text-align: right;\n",
              "    }\n",
              "</style>\n",
              "<table border=\"1\" class=\"dataframe\">\n",
              "  <thead>\n",
              "    <tr style=\"text-align: right;\">\n",
              "      <th></th>\n",
              "      <th>ATVI</th>\n",
              "      <th>CHTR</th>\n",
              "      <th>CMCSA</th>\n",
              "      <th>CTL</th>\n",
              "      <th>DIS</th>\n",
              "      <th>DISCA</th>\n",
              "      <th>DISCK</th>\n",
              "      <th>DISH</th>\n",
              "      <th>EA</th>\n",
              "      <th>FB</th>\n",
              "      <th>GOOG</th>\n",
              "      <th>GOOGL</th>\n",
              "      <th>IPG</th>\n",
              "      <th>LYV</th>\n",
              "      <th>NFLX</th>\n",
              "      <th>NWS</th>\n",
              "      <th>NWSA</th>\n",
              "      <th>OMC</th>\n",
              "      <th>T</th>\n",
              "      <th>TMUS</th>\n",
              "      <th>TTWO</th>\n",
              "      <th>TWTR</th>\n",
              "      <th>VZ</th>\n",
              "      <th>AAP</th>\n",
              "      <th>AMZN</th>\n",
              "      <th>APTV</th>\n",
              "      <th>AZO</th>\n",
              "      <th>BBY</th>\n",
              "      <th>BKNG</th>\n",
              "      <th>BWA</th>\n",
              "      <th>CCL</th>\n",
              "      <th>CMG</th>\n",
              "      <th>DG</th>\n",
              "      <th>DHI</th>\n",
              "      <th>DLTR</th>\n",
              "      <th>DPZ</th>\n",
              "      <th>DRI</th>\n",
              "      <th>EBAY</th>\n",
              "      <th>EXPE</th>\n",
              "      <th>F</th>\n",
              "      <th>...</th>\n",
              "      <th>PEAK</th>\n",
              "      <th>PLD</th>\n",
              "      <th>PSA</th>\n",
              "      <th>REG</th>\n",
              "      <th>SBAC</th>\n",
              "      <th>SLG</th>\n",
              "      <th>SPG</th>\n",
              "      <th>UDR</th>\n",
              "      <th>VNO</th>\n",
              "      <th>VTR</th>\n",
              "      <th>WELL</th>\n",
              "      <th>WY</th>\n",
              "      <th>AEE</th>\n",
              "      <th>AEP</th>\n",
              "      <th>AES</th>\n",
              "      <th>ATO</th>\n",
              "      <th>AWK</th>\n",
              "      <th>CMS</th>\n",
              "      <th>CNP</th>\n",
              "      <th>D</th>\n",
              "      <th>DTE</th>\n",
              "      <th>DUK</th>\n",
              "      <th>ED</th>\n",
              "      <th>EIX</th>\n",
              "      <th>ES</th>\n",
              "      <th>ETR</th>\n",
              "      <th>EVRG</th>\n",
              "      <th>EXC</th>\n",
              "      <th>FE</th>\n",
              "      <th>LNT</th>\n",
              "      <th>NEE</th>\n",
              "      <th>NI</th>\n",
              "      <th>NRG</th>\n",
              "      <th>PEG</th>\n",
              "      <th>PNW</th>\n",
              "      <th>PPL</th>\n",
              "      <th>SO</th>\n",
              "      <th>SRE</th>\n",
              "      <th>WEC</th>\n",
              "      <th>XEL</th>\n",
              "    </tr>\n",
              "    <tr>\n",
              "      <th>Date</th>\n",
              "      <th></th>\n",
              "      <th></th>\n",
              "      <th></th>\n",
              "      <th></th>\n",
              "      <th></th>\n",
              "      <th></th>\n",
              "      <th></th>\n",
              "      <th></th>\n",
              "      <th></th>\n",
              "      <th></th>\n",
              "      <th></th>\n",
              "      <th></th>\n",
              "      <th></th>\n",
              "      <th></th>\n",
              "      <th></th>\n",
              "      <th></th>\n",
              "      <th></th>\n",
              "      <th></th>\n",
              "      <th></th>\n",
              "      <th></th>\n",
              "      <th></th>\n",
              "      <th></th>\n",
              "      <th></th>\n",
              "      <th></th>\n",
              "      <th></th>\n",
              "      <th></th>\n",
              "      <th></th>\n",
              "      <th></th>\n",
              "      <th></th>\n",
              "      <th></th>\n",
              "      <th></th>\n",
              "      <th></th>\n",
              "      <th></th>\n",
              "      <th></th>\n",
              "      <th></th>\n",
              "      <th></th>\n",
              "      <th></th>\n",
              "      <th></th>\n",
              "      <th></th>\n",
              "      <th></th>\n",
              "      <th></th>\n",
              "      <th></th>\n",
              "      <th></th>\n",
              "      <th></th>\n",
              "      <th></th>\n",
              "      <th></th>\n",
              "      <th></th>\n",
              "      <th></th>\n",
              "      <th></th>\n",
              "      <th></th>\n",
              "      <th></th>\n",
              "      <th></th>\n",
              "      <th></th>\n",
              "      <th></th>\n",
              "      <th></th>\n",
              "      <th></th>\n",
              "      <th></th>\n",
              "      <th></th>\n",
              "      <th></th>\n",
              "      <th></th>\n",
              "      <th></th>\n",
              "      <th></th>\n",
              "      <th></th>\n",
              "      <th></th>\n",
              "      <th></th>\n",
              "      <th></th>\n",
              "      <th></th>\n",
              "      <th></th>\n",
              "      <th></th>\n",
              "      <th></th>\n",
              "      <th></th>\n",
              "      <th></th>\n",
              "      <th></th>\n",
              "      <th></th>\n",
              "      <th></th>\n",
              "      <th></th>\n",
              "      <th></th>\n",
              "      <th></th>\n",
              "      <th></th>\n",
              "      <th></th>\n",
              "      <th></th>\n",
              "    </tr>\n",
              "  </thead>\n",
              "  <tbody>\n",
              "    <tr>\n",
              "      <th>2019-12-24</th>\n",
              "      <td>-0.001359</td>\n",
              "      <td>0.000291</td>\n",
              "      <td>0.009703</td>\n",
              "      <td>-0.002277</td>\n",
              "      <td>0.004207</td>\n",
              "      <td>0.003943</td>\n",
              "      <td>0.007496</td>\n",
              "      <td>0.001956</td>\n",
              "      <td>0.007026</td>\n",
              "      <td>-0.005154</td>\n",
              "      <td>-0.003922</td>\n",
              "      <td>-0.004601</td>\n",
              "      <td>-0.000434</td>\n",
              "      <td>0.002410</td>\n",
              "      <td>0.000300</td>\n",
              "      <td>-0.001399</td>\n",
              "      <td>-0.001430</td>\n",
              "      <td>0.001609</td>\n",
              "      <td>-0.002819</td>\n",
              "      <td>0.004667</td>\n",
              "      <td>0.014713</td>\n",
              "      <td>0.002156</td>\n",
              "      <td>-0.001956</td>\n",
              "      <td>0.003744</td>\n",
              "      <td>-0.002116</td>\n",
              "      <td>-0.006722</td>\n",
              "      <td>0.004472</td>\n",
              "      <td>0.003303</td>\n",
              "      <td>0.005839</td>\n",
              "      <td>-0.009526</td>\n",
              "      <td>-0.006262</td>\n",
              "      <td>0.000724</td>\n",
              "      <td>0.007000</td>\n",
              "      <td>0.007547</td>\n",
              "      <td>0.008510</td>\n",
              "      <td>0.004741</td>\n",
              "      <td>-0.001842</td>\n",
              "      <td>0.000000</td>\n",
              "      <td>0.007104</td>\n",
              "      <td>0.003173</td>\n",
              "      <td>...</td>\n",
              "      <td>0.002391</td>\n",
              "      <td>0.002964</td>\n",
              "      <td>-0.001761</td>\n",
              "      <td>-0.001131</td>\n",
              "      <td>-0.001914</td>\n",
              "      <td>0.004920</td>\n",
              "      <td>0.005503</td>\n",
              "      <td>0.004134</td>\n",
              "      <td>0.002980</td>\n",
              "      <td>-0.001916</td>\n",
              "      <td>0.001001</td>\n",
              "      <td>-0.009668</td>\n",
              "      <td>0.001453</td>\n",
              "      <td>0.000960</td>\n",
              "      <td>-0.003032</td>\n",
              "      <td>-0.004782</td>\n",
              "      <td>0.001893</td>\n",
              "      <td>-0.000161</td>\n",
              "      <td>0.001122</td>\n",
              "      <td>-0.000860</td>\n",
              "      <td>-0.004671</td>\n",
              "      <td>0.000887</td>\n",
              "      <td>-0.001226</td>\n",
              "      <td>0.000134</td>\n",
              "      <td>0.002743</td>\n",
              "      <td>0.007311</td>\n",
              "      <td>0.006562</td>\n",
              "      <td>0.002651</td>\n",
              "      <td>0.001858</td>\n",
              "      <td>-0.000553</td>\n",
              "      <td>0.007219</td>\n",
              "      <td>-0.000729</td>\n",
              "      <td>-0.004752</td>\n",
              "      <td>-0.001537</td>\n",
              "      <td>-0.001350</td>\n",
              "      <td>-0.001122</td>\n",
              "      <td>-0.002057</td>\n",
              "      <td>0.000598</td>\n",
              "      <td>0.001529</td>\n",
              "      <td>0.003905</td>\n",
              "    </tr>\n",
              "    <tr>\n",
              "      <th>2019-12-26</th>\n",
              "      <td>0.001359</td>\n",
              "      <td>0.010077</td>\n",
              "      <td>0.009833</td>\n",
              "      <td>-0.003807</td>\n",
              "      <td>0.002818</td>\n",
              "      <td>0.007540</td>\n",
              "      <td>0.004212</td>\n",
              "      <td>0.008617</td>\n",
              "      <td>-0.000369</td>\n",
              "      <td>0.012933</td>\n",
              "      <td>0.012456</td>\n",
              "      <td>0.013329</td>\n",
              "      <td>0.005199</td>\n",
              "      <td>0.013085</td>\n",
              "      <td>-0.001712</td>\n",
              "      <td>0.016655</td>\n",
              "      <td>0.013499</td>\n",
              "      <td>0.000742</td>\n",
              "      <td>0.005120</td>\n",
              "      <td>0.001034</td>\n",
              "      <td>0.000484</td>\n",
              "      <td>0.003992</td>\n",
              "      <td>0.000163</td>\n",
              "      <td>-0.008129</td>\n",
              "      <td>0.043506</td>\n",
              "      <td>0.008709</td>\n",
              "      <td>-0.007070</td>\n",
              "      <td>-0.000910</td>\n",
              "      <td>0.009892</td>\n",
              "      <td>-0.001596</td>\n",
              "      <td>0.007627</td>\n",
              "      <td>0.011646</td>\n",
              "      <td>-0.006034</td>\n",
              "      <td>-0.003578</td>\n",
              "      <td>-0.012412</td>\n",
              "      <td>0.008936</td>\n",
              "      <td>0.003772</td>\n",
              "      <td>0.001104</td>\n",
              "      <td>0.002754</td>\n",
              "      <td>-0.002114</td>\n",
              "      <td>...</td>\n",
              "      <td>0.005952</td>\n",
              "      <td>0.006241</td>\n",
              "      <td>0.007122</td>\n",
              "      <td>0.002099</td>\n",
              "      <td>0.004612</td>\n",
              "      <td>0.013219</td>\n",
              "      <td>0.005814</td>\n",
              "      <td>0.003252</td>\n",
              "      <td>0.010361</td>\n",
              "      <td>0.004175</td>\n",
              "      <td>0.006858</td>\n",
              "      <td>0.004679</td>\n",
              "      <td>-0.001453</td>\n",
              "      <td>0.000426</td>\n",
              "      <td>0.008566</td>\n",
              "      <td>-0.000724</td>\n",
              "      <td>0.002135</td>\n",
              "      <td>0.000000</td>\n",
              "      <td>0.005590</td>\n",
              "      <td>0.001228</td>\n",
              "      <td>0.003038</td>\n",
              "      <td>0.001772</td>\n",
              "      <td>-0.000223</td>\n",
              "      <td>0.007058</td>\n",
              "      <td>0.004041</td>\n",
              "      <td>0.000669</td>\n",
              "      <td>-0.002651</td>\n",
              "      <td>0.000000</td>\n",
              "      <td>0.000619</td>\n",
              "      <td>-0.000922</td>\n",
              "      <td>0.006011</td>\n",
              "      <td>-0.002921</td>\n",
              "      <td>-0.016684</td>\n",
              "      <td>0.002049</td>\n",
              "      <td>0.001012</td>\n",
              "      <td>-0.002530</td>\n",
              "      <td>0.000633</td>\n",
              "      <td>0.006418</td>\n",
              "      <td>0.001418</td>\n",
              "      <td>-0.001114</td>\n",
              "    </tr>\n",
              "    <tr>\n",
              "      <th>2019-12-27</th>\n",
              "      <td>0.005081</td>\n",
              "      <td>-0.004209</td>\n",
              "      <td>0.002887</td>\n",
              "      <td>0.023371</td>\n",
              "      <td>0.000343</td>\n",
              "      <td>-0.004517</td>\n",
              "      <td>-0.005511</td>\n",
              "      <td>-0.004994</td>\n",
              "      <td>-0.000738</td>\n",
              "      <td>0.001491</td>\n",
              "      <td>-0.006275</td>\n",
              "      <td>-0.005763</td>\n",
              "      <td>-0.003463</td>\n",
              "      <td>0.001536</td>\n",
              "      <td>-0.010700</td>\n",
              "      <td>-0.004138</td>\n",
              "      <td>-0.001412</td>\n",
              "      <td>-0.000742</td>\n",
              "      <td>0.002041</td>\n",
              "      <td>-0.002069</td>\n",
              "      <td>0.003864</td>\n",
              "      <td>-0.002455</td>\n",
              "      <td>0.003908</td>\n",
              "      <td>-0.005793</td>\n",
              "      <td>0.000551</td>\n",
              "      <td>0.006145</td>\n",
              "      <td>-0.006738</td>\n",
              "      <td>-0.009608</td>\n",
              "      <td>0.003974</td>\n",
              "      <td>-0.001142</td>\n",
              "      <td>0.000000</td>\n",
              "      <td>-0.002161</td>\n",
              "      <td>0.008591</td>\n",
              "      <td>-0.001888</td>\n",
              "      <td>0.008220</td>\n",
              "      <td>0.000240</td>\n",
              "      <td>-0.008298</td>\n",
              "      <td>-0.004978</td>\n",
              "      <td>-0.006900</td>\n",
              "      <td>-0.009569</td>\n",
              "      <td>...</td>\n",
              "      <td>0.008569</td>\n",
              "      <td>0.002936</td>\n",
              "      <td>0.001324</td>\n",
              "      <td>0.007392</td>\n",
              "      <td>0.000622</td>\n",
              "      <td>-0.004856</td>\n",
              "      <td>0.006594</td>\n",
              "      <td>0.003026</td>\n",
              "      <td>-0.030197</td>\n",
              "      <td>0.003812</td>\n",
              "      <td>0.005946</td>\n",
              "      <td>-0.000333</td>\n",
              "      <td>0.008688</td>\n",
              "      <td>0.003297</td>\n",
              "      <td>0.002506</td>\n",
              "      <td>-0.003354</td>\n",
              "      <td>0.008822</td>\n",
              "      <td>0.004166</td>\n",
              "      <td>0.000000</td>\n",
              "      <td>0.006607</td>\n",
              "      <td>0.002564</td>\n",
              "      <td>0.006396</td>\n",
              "      <td>0.003230</td>\n",
              "      <td>-0.001727</td>\n",
              "      <td>0.000237</td>\n",
              "      <td>0.002841</td>\n",
              "      <td>0.000312</td>\n",
              "      <td>0.001984</td>\n",
              "      <td>-0.002477</td>\n",
              "      <td>0.002211</td>\n",
              "      <td>0.002271</td>\n",
              "      <td>-0.002196</td>\n",
              "      <td>0.000000</td>\n",
              "      <td>-0.000853</td>\n",
              "      <td>-0.001125</td>\n",
              "      <td>-0.000281</td>\n",
              "      <td>0.004580</td>\n",
              "      <td>0.001446</td>\n",
              "      <td>0.006085</td>\n",
              "      <td>0.005242</td>\n",
              "    </tr>\n",
              "    <tr>\n",
              "      <th>2019-12-30</th>\n",
              "      <td>-0.005251</td>\n",
              "      <td>-0.001262</td>\n",
              "      <td>0.001772</td>\n",
              "      <td>-0.024134</td>\n",
              "      <td>-0.013678</td>\n",
              "      <td>-0.011231</td>\n",
              "      <td>-0.008161</td>\n",
              "      <td>-0.015700</td>\n",
              "      <td>-0.013930</td>\n",
              "      <td>-0.017891</td>\n",
              "      <td>-0.011719</td>\n",
              "      <td>-0.011083</td>\n",
              "      <td>0.000867</td>\n",
              "      <td>-0.006160</td>\n",
              "      <td>-0.017720</td>\n",
              "      <td>-0.000691</td>\n",
              "      <td>-0.005670</td>\n",
              "      <td>0.000866</td>\n",
              "      <td>-0.005110</td>\n",
              "      <td>0.010817</td>\n",
              "      <td>-0.017179</td>\n",
              "      <td>-0.016104</td>\n",
              "      <td>-0.005214</td>\n",
              "      <td>0.004851</td>\n",
              "      <td>-0.012328</td>\n",
              "      <td>-0.011067</td>\n",
              "      <td>-0.016213</td>\n",
              "      <td>0.006415</td>\n",
              "      <td>-0.009049</td>\n",
              "      <td>-0.008261</td>\n",
              "      <td>-0.006058</td>\n",
              "      <td>-0.000861</td>\n",
              "      <td>0.004459</td>\n",
              "      <td>-0.006827</td>\n",
              "      <td>0.006977</td>\n",
              "      <td>0.003211</td>\n",
              "      <td>0.008757</td>\n",
              "      <td>-0.007514</td>\n",
              "      <td>-0.005091</td>\n",
              "      <td>-0.011822</td>\n",
              "      <td>...</td>\n",
              "      <td>0.002057</td>\n",
              "      <td>0.002140</td>\n",
              "      <td>-0.002034</td>\n",
              "      <td>-0.000961</td>\n",
              "      <td>-0.012169</td>\n",
              "      <td>-0.002816</td>\n",
              "      <td>0.000000</td>\n",
              "      <td>-0.000216</td>\n",
              "      <td>-0.003801</td>\n",
              "      <td>0.002590</td>\n",
              "      <td>0.000617</td>\n",
              "      <td>-0.001669</td>\n",
              "      <td>0.003402</td>\n",
              "      <td>-0.001700</td>\n",
              "      <td>0.002998</td>\n",
              "      <td>0.003083</td>\n",
              "      <td>0.000732</td>\n",
              "      <td>0.000799</td>\n",
              "      <td>0.000000</td>\n",
              "      <td>0.000975</td>\n",
              "      <td>0.001086</td>\n",
              "      <td>-0.001981</td>\n",
              "      <td>0.002776</td>\n",
              "      <td>0.001715</td>\n",
              "      <td>0.001067</td>\n",
              "      <td>-0.004851</td>\n",
              "      <td>0.002494</td>\n",
              "      <td>-0.000661</td>\n",
              "      <td>0.002064</td>\n",
              "      <td>0.000736</td>\n",
              "      <td>-0.005043</td>\n",
              "      <td>0.008393</td>\n",
              "      <td>0.000000</td>\n",
              "      <td>0.001535</td>\n",
              "      <td>0.004492</td>\n",
              "      <td>0.004214</td>\n",
              "      <td>-0.001893</td>\n",
              "      <td>0.001192</td>\n",
              "      <td>-0.001518</td>\n",
              "      <td>0.002690</td>\n",
              "    </tr>\n",
              "    <tr>\n",
              "      <th>2019-12-31</th>\n",
              "      <td>0.009129</td>\n",
              "      <td>0.004132</td>\n",
              "      <td>-0.004659</td>\n",
              "      <td>0.008362</td>\n",
              "      <td>0.005964</td>\n",
              "      <td>-0.000611</td>\n",
              "      <td>-0.000656</td>\n",
              "      <td>0.002258</td>\n",
              "      <td>0.005409</td>\n",
              "      <td>0.004101</td>\n",
              "      <td>0.000658</td>\n",
              "      <td>-0.000239</td>\n",
              "      <td>0.000866</td>\n",
              "      <td>0.003645</td>\n",
              "      <td>0.000804</td>\n",
              "      <td>0.003452</td>\n",
              "      <td>0.004963</td>\n",
              "      <td>0.001359</td>\n",
              "      <td>0.001024</td>\n",
              "      <td>0.004345</td>\n",
              "      <td>0.000654</td>\n",
              "      <td>0.000624</td>\n",
              "      <td>0.003099</td>\n",
              "      <td>0.006515</td>\n",
              "      <td>0.000514</td>\n",
              "      <td>-0.002944</td>\n",
              "      <td>0.006789</td>\n",
              "      <td>0.002623</td>\n",
              "      <td>-0.000068</td>\n",
              "      <td>-0.000461</td>\n",
              "      <td>-0.003731</td>\n",
              "      <td>0.001243</td>\n",
              "      <td>-0.008745</td>\n",
              "      <td>0.003799</td>\n",
              "      <td>0.005972</td>\n",
              "      <td>0.001806</td>\n",
              "      <td>0.000459</td>\n",
              "      <td>0.008622</td>\n",
              "      <td>0.003427</td>\n",
              "      <td>0.005391</td>\n",
              "      <td>...</td>\n",
              "      <td>0.011966</td>\n",
              "      <td>0.003146</td>\n",
              "      <td>0.008251</td>\n",
              "      <td>0.010997</td>\n",
              "      <td>0.010428</td>\n",
              "      <td>0.006278</td>\n",
              "      <td>0.009240</td>\n",
              "      <td>0.007954</td>\n",
              "      <td>0.013017</td>\n",
              "      <td>0.009624</td>\n",
              "      <td>0.009460</td>\n",
              "      <td>0.008981</td>\n",
              "      <td>0.003130</td>\n",
              "      <td>0.005092</td>\n",
              "      <td>-0.007010</td>\n",
              "      <td>0.012504</td>\n",
              "      <td>-0.001627</td>\n",
              "      <td>0.003986</td>\n",
              "      <td>0.013289</td>\n",
              "      <td>0.008975</td>\n",
              "      <td>0.006566</td>\n",
              "      <td>0.004615</td>\n",
              "      <td>0.003100</td>\n",
              "      <td>0.009326</td>\n",
              "      <td>0.007789</td>\n",
              "      <td>0.004350</td>\n",
              "      <td>0.013301</td>\n",
              "      <td>0.004617</td>\n",
              "      <td>0.002266</td>\n",
              "      <td>0.006233</td>\n",
              "      <td>0.003599</td>\n",
              "      <td>0.011561</td>\n",
              "      <td>0.013168</td>\n",
              "      <td>0.006456</td>\n",
              "      <td>0.007590</td>\n",
              "      <td>0.005870</td>\n",
              "      <td>0.005667</td>\n",
              "      <td>0.002843</td>\n",
              "      <td>0.000651</td>\n",
              "      <td>0.003155</td>\n",
              "    </tr>\n",
              "  </tbody>\n",
              "</table>\n",
              "<p>5 rows × 488 columns</p>\n",
              "</div>"
            ],
            "text/plain": [
              "                ATVI      CHTR     CMCSA  ...       SRE       WEC       XEL\n",
              "Date                                      ...                              \n",
              "2019-12-24 -0.001359  0.000291  0.009703  ...  0.000598  0.001529  0.003905\n",
              "2019-12-26  0.001359  0.010077  0.009833  ...  0.006418  0.001418 -0.001114\n",
              "2019-12-27  0.005081 -0.004209  0.002887  ...  0.001446  0.006085  0.005242\n",
              "2019-12-30 -0.005251 -0.001262  0.001772  ...  0.001192 -0.001518  0.002690\n",
              "2019-12-31  0.009129  0.004132 -0.004659  ...  0.002843  0.000651  0.003155\n",
              "\n",
              "[5 rows x 488 columns]"
            ]
          },
          "metadata": {},
          "execution_count": 5
        }
      ],
      "source": [
        "# code for question 4\n",
        "returns.tail()"
      ]
    },
    {
      "cell_type": "markdown",
      "metadata": {
        "id": "3cCCcjblnNM3"
      },
      "source": [
        "### 5. How many stocks are in this `DataFrame`?"
      ]
    },
    {
      "cell_type": "code",
      "execution_count": null,
      "metadata": {
        "colab": {
          "base_uri": "https://localhost:8080/"
        },
        "id": "Eg5jyBMJnNM3",
        "outputId": "24ce87c2-ed3a-43c4-cf0b-962464641dd1"
      },
      "outputs": [
        {
          "output_type": "execute_result",
          "data": {
            "text/plain": [
              "488"
            ]
          },
          "metadata": {},
          "execution_count": 6
        }
      ],
      "source": [
        "# code for question 5\n",
        "returns.columns.nunique()"
      ]
    },
    {
      "cell_type": "markdown",
      "metadata": {
        "id": "gfWNPlCsnNM3"
      },
      "source": [
        "**488**"
      ]
    },
    {
      "cell_type": "markdown",
      "metadata": {
        "id": "mC0JPUn8nNM3"
      },
      "source": [
        "### 6. Over how many days are these stock returns reported?"
      ]
    },
    {
      "cell_type": "code",
      "execution_count": null,
      "metadata": {
        "colab": {
          "base_uri": "https://localhost:8080/"
        },
        "id": "uetn_rv4nNM4",
        "outputId": "de74c20e-4283-4246-ebd3-e94a8f652022"
      },
      "outputs": [
        {
          "output_type": "execute_result",
          "data": {
            "text/plain": [
              "252"
            ]
          },
          "metadata": {},
          "execution_count": 7
        }
      ],
      "source": [
        "# code for question 6\n",
        "returns.index.nunique()"
      ]
    },
    {
      "cell_type": "markdown",
      "metadata": {
        "id": "CrqIUV7SnNM4"
      },
      "source": [
        "**252**"
      ]
    },
    {
      "cell_type": "markdown",
      "metadata": {
        "id": "BoRGZGKQnNM4"
      },
      "source": [
        "### 7. Extract the returns of the Amazon stock only, which has a ticker symbol `AMZN`. Save it in a `Series` called `amzn_returns`."
      ]
    },
    {
      "cell_type": "code",
      "execution_count": null,
      "metadata": {
        "id": "CSY0wK0mnNM4"
      },
      "outputs": [],
      "source": [
        "# code for question 7\n",
        "amzn_returns = returns['AMZN']"
      ]
    },
    {
      "cell_type": "markdown",
      "metadata": {
        "id": "URD2V0wFnNM5"
      },
      "source": [
        "### 8. Plot the Amazon stock returns extracted in the above cell. "
      ]
    },
    {
      "cell_type": "code",
      "execution_count": null,
      "metadata": {
        "colab": {
          "base_uri": "https://localhost:8080/",
          "height": 351
        },
        "id": "5MKWDhYinNM5",
        "outputId": "e50b3f61-d733-427b-d561-d656940c0f51"
      },
      "outputs": [
        {
          "output_type": "execute_result",
          "data": {
            "text/plain": [
              "<matplotlib.axes._subplots.AxesSubplot at 0x7fc94d048690>"
            ]
          },
          "metadata": {},
          "execution_count": 9
        },
        {
          "output_type": "display_data",
          "data": {
            "image/png": "[encoded data removed]",
            "text/plain": [
              "<Figure size 720x360 with 1 Axes>"
            ]
          },
          "metadata": {
            "needs_background": "light"
          }
        }
      ],
      "source": [
        "# code for question 8\n",
        "amzn_returns.plot(figsize=(10,5))"
      ]
    },
    {
      "cell_type": "markdown",
      "metadata": {
        "id": "cd_Q5-VknNM5"
      },
      "source": [
        "### 9. Plot the cumulative sum of the Amazon stock returns using the method `.cumsum()` which acts directly on the `amzn_returns` `Series`."
      ]
    },
    {
      "cell_type": "code",
      "execution_count": null,
      "metadata": {
        "colab": {
          "base_uri": "https://localhost:8080/",
          "height": 351
        },
        "id": "NMR6-RfBnNM5",
        "outputId": "c9288d66-67b3-48cf-f336-b4b2fa2bbe5c"
      },
      "outputs": [
        {
          "output_type": "execute_result",
          "data": {
            "text/plain": [
              "<matplotlib.axes._subplots.AxesSubplot at 0x7fc94cf9cfd0>"
            ]
          },
          "metadata": {},
          "execution_count": 10
        },
        {
          "output_type": "display_data",
          "data": {
            "image/png": "[encoded data removed]",
            "text/plain": [
              "<Figure size 720x360 with 1 Axes>"
            ]
          },
          "metadata": {
            "needs_background": "light"
          }
        }
      ],
      "source": [
        "# code for question 9\n",
        "amzn_returns.cumsum().plot(figsize=(10,5))"
      ]
    },
    {
      "cell_type": "code",
      "execution_count": null,
      "metadata": {
        "id": "1hic81HWnNM5",
        "colab": {
          "base_uri": "https://localhost:8080/"
        },
        "outputId": "e034caf0-046b-4f32-fd00-215a6a6e8452"
      },
      "outputs": [
        {
          "output_type": "stream",
          "name": "stderr",
          "text": [
            "/usr/local/lib/python3.7/dist-packages/statsmodels/tools/_testing.py:19: FutureWarning: pandas.util.testing is deprecated. Use the functions in the public API at pandas.testing instead.\n",
            "  import pandas.util.testing as tm\n"
          ]
        }
      ],
      "source": [
        "# the module below will allow us to perform linear regression\n",
        "import statsmodels.api as sm\n",
        "import statsmodels.formula.api as smf\n",
        "from patsy import dmatrices"
      ]
    },
    {
      "cell_type": "markdown",
      "metadata": {
        "id": "u92OfcK3nNM6"
      },
      "source": [
        "The function `lin_reg(x,y)` given below performs ordinary least squares (OLS) linear regression using `sm.OLS` from the `statsmodels.api` module.\n",
        "\n",
        "The code enclosed in `''' '''` is the docstring of the function `lin_reg`.\n",
        "\n",
        "`x` in the `lin_reg` function is a matrix that contains the regressors, and `y` represents the vector containing the dependent variable. Note that `x` might contain one vector or multiple vectors. In the case that `x` contains one vector $x$, the regression gives:\n",
        "\n",
        "$$ y = \\beta_0 + \\beta_1 x $$\n",
        "\n",
        "In the case that `x` contains multiple vectors $x_1, \\dots, x_k$, the regression becomes:\n",
        "\n",
        "$$ y = \\beta_0 + \\beta_1 x_1 + \\dots + \\beta_k x_k$$\n",
        "\n",
        "The $\\beta$'s are the regression coefficients obtained using least squares. Note that `sm.add_constant` is used in the function below to make `x` look like the matrix $A$ we use in least squares, whose first column contains all ones."
      ]
    },
    {
      "cell_type": "code",
      "execution_count": null,
      "metadata": {
        "id": "ZS9ECsZfnNM6"
      },
      "outputs": [],
      "source": [
        "def lin_reg(x, y):\n",
        "    '''\n",
        "    oridinary linear regression using least-squares\n",
        "    \n",
        "    Parameters\n",
        "    ----------  \n",
        "    x: regressors (numpy array)\n",
        "    y: dependent variable (numpy array)\n",
        "    \n",
        "    Returns\n",
        "    -------\n",
        "    coefficients: regression coefficients (pandas Series)\n",
        "    residuals: regression residuals (numpy array)\n",
        "    r_squared: correlation coefficient (float)\n",
        "    \n",
        "    '''\n",
        "    x = sm.add_constant(x)\n",
        "    model = sm.OLS(y, x).fit()\n",
        "    coefficients = model.params\n",
        "    residuals = model.resid\n",
        "    r_squared = model.rsquared\n",
        "    return coefficients, residuals, r_squared"
      ]
    },
    {
      "cell_type": "markdown",
      "metadata": {
        "id": "0qLlHeIRnNM7"
      },
      "source": [
        "### 10. Let's try to use the obove function. Extract (as numpy array) the stock returns of:\n",
        "\n",
        "- Apple (ticker symbol `AAPL`) and call it `aapl`\n",
        "- Intel (ticker symbol `INTC`) and call it `intc`\n",
        "- Microsoft (ticker symbol `MSFT`) and call it `msft`\n",
        "- IBM (ticker symbol `IBM`) and call it `ibm`\n",
        "\n",
        "### Let `y` be the Apple stock returns, and `x` be the Intel stock returns. Use the `lin_reg` function defined above to find $y=\\beta_0 + \\beta_1 x$. "
      ]
    },
    {
      "cell_type": "code",
      "execution_count": null,
      "metadata": {
        "id": "K2CK3Ki6nNM7"
      },
      "outputs": [],
      "source": [
        "# code for question 10\n",
        "aapl = np.array(returns['AAPL'])\n",
        "intc = np.array(returns['INTC'])\n",
        "msft = np.array(returns['MSFT'])\n",
        "ibm = np.array(returns['IBM'])"
      ]
    },
    {
      "cell_type": "code",
      "source": [
        "lin_reg(intc, aapl)"
      ],
      "metadata": {
        "colab": {
          "base_uri": "https://localhost:8080/"
        },
        "id": "kHwLgTRVuqy2",
        "outputId": "1731122d-a41e-4500-8439-97419e6b60d2"
      },
      "execution_count": null,
      "outputs": [
        {
          "output_type": "execute_result",
          "data": {
            "text/plain": [
              "(array([0.00195633, 0.53526326]),\n",
              " array([-2.52404291e-03, -7.65933995e-02,  7.97028504e-03, -6.67246823e-03,\n",
              "         1.35529430e-02,  1.18641773e-02, -4.86231162e-03, -1.58858897e-02,\n",
              "        -1.07247855e-02,  1.55432797e-02,  1.53879143e-02,  1.95803633e-04,\n",
              "        -3.70848711e-03, -1.45523640e-02,  5.75186562e-03, -2.98588472e-02,\n",
              "         6.07322952e-02, -7.48569899e-03, -1.04235826e-02,  5.27654517e-02,\n",
              "         9.96878256e-03, -1.94589822e-02,  2.06971946e-02,  6.48551194e-03,\n",
              "        -3.81541327e-03, -1.38417615e-02,  3.47531369e-03, -6.95626072e-03,\n",
              "        -6.81518375e-03, -1.10207955e-02, -1.91331554e-03, -1.30640488e-02,\n",
              "         3.73241073e-03,  4.56260586e-03, -7.81909133e-03, -1.98071888e-03,\n",
              "        -8.82835545e-04, -2.69138170e-03,  1.03604149e-03, -9.01844862e-03,\n",
              "         5.07437855e-03, -3.32813700e-03, -1.19160641e-03, -3.97791181e-04,\n",
              "        -1.00485727e-02,  1.64015048e-03,  2.32986478e-02,  7.01368073e-03,\n",
              "        -5.47843767e-03,  1.83338490e-02,  2.12697114e-03,  1.04713435e-02,\n",
              "        -1.06047880e-02,  1.02139009e-02,  2.61181125e-02, -9.18964221e-03,\n",
              "        -9.27542064e-03, -1.89934048e-02,  9.80938885e-03, -1.27124567e-04,\n",
              "        -1.37327806e-03, -3.20140250e-03,  1.39505783e-02, -6.04082867e-03,\n",
              "        -4.44592181e-03,  7.78746330e-03,  1.28876263e-02, -1.48737560e-03,\n",
              "        -5.02457763e-04, -1.07951941e-02, -8.27313654e-03,  1.18205641e-03,\n",
              "        -5.92995314e-03,  1.46879070e-04,  2.27125216e-03, -1.68658411e-03,\n",
              "         1.27279632e-02, -2.95318612e-03, -8.57691448e-04,  4.36892366e-02,\n",
              "         1.32084943e-02, -2.06667853e-02,  4.89070913e-02, -6.26628867e-03,\n",
              "        -2.15972009e-03, -1.52774679e-02, -2.14936754e-02,  1.15531895e-02,\n",
              "         1.65077124e-02, -1.10625666e-02, -4.48839109e-02,  8.86914315e-03,\n",
              "         4.64559422e-03, -5.30860802e-03, -7.70294616e-05, -1.76272402e-02,\n",
              "         6.08681722e-03, -1.70736093e-02, -2.55823876e-02, -6.28483359e-03,\n",
              "         6.04660869e-03, -1.47842735e-02, -2.80004579e-03, -1.19167592e-02,\n",
              "        -5.02201736e-03,  1.78395140e-02,  1.69338265e-02,  6.05104760e-03,\n",
              "         1.33871893e-02,  1.86222894e-03,  8.98511200e-03,  9.45964478e-04,\n",
              "        -6.53583475e-03, -3.36744630e-03,  4.68826934e-03,  7.09164042e-03,\n",
              "        -1.48255072e-03,  4.68423377e-03, -8.42523410e-03, -4.87688116e-03,\n",
              "        -8.39172494e-03,  4.34751551e-03,  5.91369305e-03, -1.57142762e-02,\n",
              "         1.42094880e-02,  3.10191052e-03,  1.86530238e-03,  2.03883302e-03,\n",
              "        -1.98833466e-02,  4.90872544e-03,  2.75196306e-03, -1.35780246e-02,\n",
              "        -8.64691229e-03,  5.25453004e-03,  4.82084192e-03, -9.98535298e-03,\n",
              "         3.41179016e-03, -2.05219338e-02,  9.26278068e-03,  1.67757983e-03,\n",
              "        -1.47373213e-02, -2.15222822e-03,  7.39702783e-03, -2.12238077e-03,\n",
              "         2.06333597e-03,  3.02832590e-02, -1.25977560e-02, -1.44002551e-02,\n",
              "        -3.65835743e-02,  1.33092792e-02,  1.09737620e-02,  1.48435760e-02,\n",
              "         3.44591007e-03, -5.48611078e-05,  2.51588273e-02, -2.09723652e-02,\n",
              "        -4.96283465e-03,  1.20752929e-02,  8.17841380e-03,  5.27910159e-03,\n",
              "         2.54339936e-03,  1.41380256e-03, -2.80384561e-02,  9.76853766e-03,\n",
              "        -1.59995931e-02,  4.73173118e-03,  2.35559336e-03, -9.38060011e-03,\n",
              "        -1.17502008e-02, -6.79108606e-03,  4.64862610e-03, -1.07399576e-02,\n",
              "        -4.69529030e-03,  7.40637249e-03,  1.94170746e-02, -6.42116905e-03,\n",
              "        -1.68351198e-02,  6.76203009e-03,  4.24486981e-03,  9.54731773e-03,\n",
              "        -8.35287084e-03, -7.78645871e-03,  6.84093922e-04,  4.75687213e-03,\n",
              "         5.76077975e-04, -6.07705929e-03, -5.36058529e-03,  1.34583709e-02,\n",
              "         8.86678487e-03, -1.26986285e-02, -3.88936897e-04,  1.62516308e-02,\n",
              "         1.42672640e-03, -4.24580399e-03,  1.68345472e-03,  4.79310242e-03,\n",
              "         1.41282319e-02,  1.24745189e-03, -1.46587419e-02, -3.96448919e-03,\n",
              "         7.97416207e-03,  8.02074770e-03,  7.27238154e-03, -3.01211703e-03,\n",
              "         1.43662552e-02, -5.56515688e-03, -3.13990660e-02,  5.17430384e-03,\n",
              "        -2.13805067e-02, -4.54414250e-03,  2.10639054e-02,  2.62185691e-02,\n",
              "        -5.72985208e-03, -2.83637716e-03, -4.93136347e-03,  5.35330253e-03,\n",
              "        -1.24794062e-03,  5.19690685e-03, -1.49440443e-03,  1.04384564e-02,\n",
              "        -8.15974419e-03,  8.46604696e-03,  4.01697325e-04, -5.91167101e-03,\n",
              "        -9.52201472e-03, -9.40007367e-03,  2.80325759e-03,  4.39061514e-03,\n",
              "        -1.06142836e-02,  1.49425402e-02,  6.33436334e-05, -9.97780438e-03,\n",
              "        -4.97970601e-03,  7.30872057e-03,  1.20351391e-02,  1.02530673e-02,\n",
              "        -1.34107666e-02,  3.30340353e-03,  2.01591039e-03, -3.89440267e-03,\n",
              "         9.31764553e-03,  1.58509002e-02,  3.73082950e-03, -3.13283721e-03,\n",
              "        -8.30182396e-03, -1.30952344e-02,  1.16938821e-02, -2.63036099e-03,\n",
              "         1.40085229e-02, -4.65728593e-03,  8.07528318e-03,  3.26262755e-03]),\n",
              " 0.3050299157977575)"
            ]
          },
          "metadata": {},
          "execution_count": 14
        }
      ]
    },
    {
      "cell_type": "markdown",
      "metadata": {
        "id": "BnUDpRZunNM7"
      },
      "source": [
        "### 11. Plot the cumulative sum of the Apple returns prediction from least squares on top of the actual Apple returns. How well do the Intel stock returns describe the Apple stock returns?"
      ]
    },
    {
      "cell_type": "code",
      "execution_count": null,
      "metadata": {
        "colab": {
          "base_uri": "https://localhost:8080/",
          "height": 367
        },
        "id": "GaNb0edfnNM7",
        "outputId": "52a0d415-f8e6-4673-bf2c-28c2058af07d"
      },
      "outputs": [
        {
          "output_type": "execute_result",
          "data": {
            "text/plain": [
              "Text(0.5, 1.0, 'Cumulative Sum of Expected vs. Actual AAPL Returns')"
            ]
          },
          "metadata": {},
          "execution_count": 15
        },
        {
          "output_type": "display_data",
          "data": {
            "image/png": "[encoded data removed]",
            "text/plain": [
              "<Figure size 720x360 with 1 Axes>"
            ]
          },
          "metadata": {
            "needs_background": "light"
          }
        }
      ],
      "source": [
        "# code for question 11\n",
        "reg1 = smf.ols('AAPL~INTC', data=returns).fit()\n",
        "returns['predAAPL1'] = reg1.predict()\n",
        "\n",
        "fig,ax = plt.subplots(figsize=(10,5))\n",
        "returns['predAAPL1'].cumsum().plot(ax=ax)\n",
        "returns['AAPL'].cumsum().plot(ax=ax)\n",
        "ax.legend()\n",
        "ax.set_title('Cumulative Sum of Expected vs. Actual AAPL Returns')"
      ]
    },
    {
      "cell_type": "code",
      "source": [
        "lin_reg(intc, aapl)[-1]"
      ],
      "metadata": {
        "colab": {
          "base_uri": "https://localhost:8080/"
        },
        "id": "CiFe9_Smy6Ac",
        "outputId": "ca900770-5d87-41fe-c526-8415d357d008"
      },
      "execution_count": null,
      "outputs": [
        {
          "output_type": "execute_result",
          "data": {
            "text/plain": [
              "0.3050299157977575"
            ]
          },
          "metadata": {},
          "execution_count": 16
        }
      ]
    },
    {
      "cell_type": "markdown",
      "source": [
        "**30% of the variation in AAPL returns can be explained by variations in INTC**"
      ],
      "metadata": {
        "id": "A_n9U3scy-Jo"
      }
    },
    {
      "cell_type": "markdown",
      "metadata": {
        "id": "wQ5slominNM8"
      },
      "source": [
        "### 12. Now, let `y` be the Apple stock returns, and `x` be the Intel, Microsoft, and IBM stock returns. Use the `lin_reg` function defined above to find $y=\\beta_0 + \\beta_1 x_1 + \\beta_2 x_2 + \\beta_3 x_3$, where $x_1$ represents Intel returns, $x_2$ represents Microsoft returns, and $x_3$ represents IBM returns. "
      ]
    },
    {
      "cell_type": "code",
      "execution_count": null,
      "metadata": {
        "colab": {
          "base_uri": "https://localhost:8080/"
        },
        "id": "ZbZ_PX9QnNM8",
        "outputId": "4019a7b8-8a60-4bea-8027-7f17ed446d8e"
      },
      "outputs": [
        {
          "output_type": "execute_result",
          "data": {
            "text/plain": [
              "(array([0.00111582, 0.28414114, 0.54372266, 0.15058611]),\n",
              " array([-4.94304263e-04, -6.65460988e-02, -6.72134662e-03, -6.41929120e-03,\n",
              "         9.92225380e-03,  5.32411017e-03,  9.77417738e-04, -8.51568707e-03,\n",
              "        -7.56492196e-03,  4.65508561e-04,  1.20118446e-02, -1.70485243e-03,\n",
              "        -9.24676595e-03, -6.51841290e-03, -1.26387243e-02, -1.66478814e-02,\n",
              "         4.08854418e-02,  1.95828450e-03,  6.21498519e-04,  4.10157592e-02,\n",
              "         1.85952607e-02, -1.16316230e-03,  7.39361173e-03,  3.36666575e-03,\n",
              "         3.27424609e-03, -1.07310970e-02, -3.30322398e-04, -4.62551281e-03,\n",
              "        -1.03741396e-02, -9.09210281e-03,  1.29837834e-03, -1.64306035e-02,\n",
              "         2.82795807e-03,  8.95041391e-03, -1.80550333e-02, -5.14974230e-03,\n",
              "        -3.97097731e-04, -5.25622324e-03,  3.43789381e-03, -7.69359922e-03,\n",
              "         3.93866247e-03,  2.65125243e-03,  1.75414244e-03, -2.25294464e-03,\n",
              "        -2.42424801e-03,  1.61705829e-03,  1.40788782e-02,  4.47193585e-03,\n",
              "        -5.41500218e-03,  1.41647909e-02,  1.94916303e-04,  1.67483324e-03,\n",
              "        -1.01098554e-02,  1.09847529e-02,  1.64333900e-02,  1.89021202e-03,\n",
              "        -1.32427554e-02, -1.73072372e-02,  1.56694114e-02, -1.00107081e-03,\n",
              "        -3.69945298e-03, -5.88738134e-03,  1.36386676e-02, -4.28761663e-03,\n",
              "         2.04384924e-03,  4.25145859e-03,  1.37922686e-02,  2.02945447e-03,\n",
              "        -2.81121094e-03, -1.11605834e-02, -8.04787536e-03,  1.41945261e-03,\n",
              "        -3.21092289e-03,  1.09550304e-02, -5.60119546e-03,  4.03866810e-04,\n",
              "         4.39522702e-03,  2.42478343e-05, -2.10975378e-02,  1.68859765e-02,\n",
              "         8.56997451e-03, -2.49524308e-02,  5.94988782e-02,  1.72319924e-03,\n",
              "        -7.60478447e-03, -1.24554208e-02, -1.00646401e-02,  5.79795231e-03,\n",
              "         4.81380775e-03, -1.94888443e-02, -3.11795244e-02,  3.80003084e-03,\n",
              "        -8.54153604e-04, -1.90258330e-02,  2.58625288e-03, -1.73221333e-02,\n",
              "         7.66650650e-03, -2.20236204e-02, -1.09138772e-02, -5.35210258e-03,\n",
              "         3.61943550e-03, -3.99330077e-03, -2.42434898e-03, -3.01315562e-03,\n",
              "         8.12811535e-03,  6.28999920e-03,  6.13169601e-03,  6.07497197e-04,\n",
              "         3.09783202e-03,  3.19017624e-04,  1.08016322e-02,  2.64706378e-03,\n",
              "        -8.05524592e-03, -5.14036088e-03,  3.78575689e-03,  3.63306083e-03,\n",
              "        -5.13635935e-03, -7.93340313e-04, -6.61065563e-03, -6.50648780e-03,\n",
              "         6.81930150e-03,  1.00620357e-02,  2.02862450e-03, -1.12675479e-02,\n",
              "         6.90896843e-03,  3.47709690e-04, -1.18329384e-04,  2.34643913e-03,\n",
              "        -1.91424452e-02,  8.70420461e-03, -7.37436906e-04, -1.37023880e-02,\n",
              "        -4.62839895e-03,  6.48848885e-03,  7.80678648e-03, -4.31809414e-03,\n",
              "        -3.15858833e-04, -1.88742561e-02,  8.22471304e-03,  4.56995077e-04,\n",
              "        -1.34852461e-02, -3.25347798e-03,  6.80544854e-05,  4.82901109e-03,\n",
              "         2.73987257e-03,  4.30614380e-02, -2.62221315e-02, -1.00595272e-02,\n",
              "        -1.89816617e-02,  5.71354484e-03,  9.94841560e-03,  8.86345527e-04,\n",
              "         6.83778718e-03,  8.57580588e-03,  1.97366307e-02, -3.64058429e-03,\n",
              "        -4.60268041e-03,  5.31311605e-03,  2.46523952e-03,  9.57611594e-03,\n",
              "        -1.10534967e-03,  4.16864563e-03, -1.41351929e-02,  5.11803073e-03,\n",
              "        -1.64181728e-02,  4.47938094e-03, -3.50767878e-03, -5.36292015e-03,\n",
              "        -4.37443965e-03, -4.57968139e-03, -3.05372797e-03, -1.69389419e-03,\n",
              "         3.48016341e-03,  1.25221369e-02,  2.62680954e-02, -1.01210698e-02,\n",
              "        -1.74920191e-02,  1.11587188e-02, -3.52644086e-05,  4.89585549e-03,\n",
              "        -1.90492117e-02, -3.64800556e-03,  3.38383500e-03,  7.54706452e-03,\n",
              "        -1.95172497e-03, -6.84078321e-03,  2.21301878e-03,  1.05981685e-02,\n",
              "         1.54798849e-02, -6.96437323e-03, -3.20807163e-03,  1.32031222e-02,\n",
              "         6.54598191e-03,  1.04366715e-03, -5.31767063e-03,  3.81026573e-03,\n",
              "         1.57466483e-02,  1.17672021e-03, -1.77824211e-02,  1.33399912e-03,\n",
              "         1.73259427e-02,  1.55669116e-02,  9.53407204e-03,  3.84232921e-03,\n",
              "         9.87336216e-03, -1.25057868e-02, -1.55940208e-02, -6.44887828e-03,\n",
              "        -1.48522140e-02, -1.08822549e-02,  2.79780436e-02,  2.36311066e-02,\n",
              "        -5.53829455e-03, -2.15938195e-03, -1.95561937e-03,  6.81304675e-03,\n",
              "        -5.73994415e-03,  8.18362660e-03, -4.99436866e-03,  1.02890613e-02,\n",
              "        -9.88924153e-03,  2.53910908e-03,  1.25667645e-03, -5.05646532e-03,\n",
              "        -8.19667916e-03, -7.38827401e-03,  3.72363610e-05,  2.66349474e-03,\n",
              "        -1.12806551e-02,  1.45571717e-02,  1.52404692e-03, -2.48232961e-03,\n",
              "        -9.39024281e-03,  6.11055199e-03,  1.29456274e-02,  6.29275525e-03,\n",
              "        -1.32011200e-02,  5.24837803e-03,  3.09953460e-03, -8.18858833e-03,\n",
              "         7.88557472e-03,  1.28826325e-02,  5.66791670e-03, -1.94986246e-03,\n",
              "        -8.88227075e-03, -1.50539293e-02,  1.37687903e-02, -2.89564695e-04,\n",
              "         1.22156002e-02, -4.12182824e-03,  1.44558840e-02,  3.30246206e-03]),\n",
              " array(0.47047307))"
            ]
          },
          "metadata": {},
          "execution_count": 17
        }
      ],
      "source": [
        "reg2 = smf.ols('AAPL~INTC+MSFT+IBM', data=returns).fit()\n",
        "params = reg2.params\n",
        "resids = reg2.resid\n",
        "r2 = reg2.rsquared\n",
        "np.array(params), np.array(resids), np.array(r2)"
      ]
    },
    {
      "cell_type": "markdown",
      "metadata": {
        "id": "HJ2HvVc9nNM8"
      },
      "source": [
        "### 13. Plot the cumulative sum of the Apple returns prediction from least squares on top of the cumulative sum of actual Apple returns. How well do the Intel, Microsoft, and IBM stock returns describe the Apple stock returns?"
      ]
    },
    {
      "cell_type": "code",
      "execution_count": null,
      "metadata": {
        "colab": {
          "base_uri": "https://localhost:8080/",
          "height": 367
        },
        "id": "ZTrugY8ZnNM8",
        "outputId": "dcd9fb5f-5042-441d-b464-454180b66e4e"
      },
      "outputs": [
        {
          "output_type": "execute_result",
          "data": {
            "text/plain": [
              "Text(0.5, 1.0, 'Cumulative Sum of Expected vs. Actual AAPL Returns')"
            ]
          },
          "metadata": {},
          "execution_count": 18
        },
        {
          "output_type": "display_data",
          "data": {
            "image/png": "[encoded data removed]",
            "text/plain": [
              "<Figure size 720x360 with 1 Axes>"
            ]
          },
          "metadata": {
            "needs_background": "light"
          }
        }
      ],
      "source": [
        "# code for question 13\n",
        "# code for question 12\n",
        "reg2 =  smf.ols('AAPL~INTC+MSFT+IBM', data=returns).fit()\n",
        "returns['predAAPL2'] = reg2.predict()\n",
        "\n",
        "fig,ax = plt.subplots(figsize=(10,5))\n",
        "returns['predAAPL2'].cumsum().plot(ax=ax)\n",
        "returns['AAPL'].cumsum().plot(ax=ax)\n",
        "ax.legend()\n",
        "ax.set_title('Cumulative Sum of Expected vs. Actual AAPL Returns')"
      ]
    },
    {
      "cell_type": "code",
      "source": [
        "r2"
      ],
      "metadata": {
        "colab": {
          "base_uri": "https://localhost:8080/"
        },
        "id": "FMlJDBtO28kf",
        "outputId": "09c9b618-1af6-45df-e834-bb9e706164b6"
      },
      "execution_count": null,
      "outputs": [
        {
          "output_type": "execute_result",
          "data": {
            "text/plain": [
              "0.47047307056763"
            ]
          },
          "metadata": {},
          "execution_count": 19
        }
      ]
    },
    {
      "cell_type": "markdown",
      "source": [
        "**47% of the variation in AAPL returns can be explained by variations in INTC, MSFT, and IBM returns**"
      ],
      "metadata": {
        "id": "v00OJSSn3Cma"
      }
    },
    {
      "cell_type": "markdown",
      "metadata": {
        "id": "_Gb0dklmnNM8"
      },
      "source": [
        "The file `SPY.csv` contains the prices of SPDR S&P 500 ETF Trust. This Exchage Traded Fund (ETF) contains a collection of assets currently present in the S&P 500 index. \n",
        "\n",
        "### 14. Load `SPY.csv` into a DataFrame called `spy_prices` using the `read_csv` method in `pandas`. Make sure to make the 'Date' column to be your index column. To do that, read the docstring for `read_csv`. "
      ]
    },
    {
      "cell_type": "code",
      "execution_count": null,
      "metadata": {
        "id": "N9mEW4GQnNM9"
      },
      "outputs": [],
      "source": [
        "# code for question 14\n",
        "spy_prices = pd.read_csv('/content/drive/MyDrive/LinAlg/SPY.csv').set_index('Date')"
      ]
    },
    {
      "cell_type": "markdown",
      "metadata": {
        "id": "E_Agx2ulnNM9"
      },
      "source": [
        "### 15. Once you have downloaded the file into the `DataFrame`, observe all the available prices and dates. Show the head of the `DataFrame`, and then answer the following questions:\n",
        "\n",
        "(a) Which prices are reported?\n",
        "\n",
        "(b) From which date to which date are these prices reported?"
      ]
    },
    {
      "cell_type": "code",
      "execution_count": null,
      "metadata": {
        "colab": {
          "base_uri": "https://localhost:8080/",
          "height": 237
        },
        "id": "VQABtq7tnNM9",
        "outputId": "33700892-b0a0-4551-bdc5-2b6a7831aa55"
      },
      "outputs": [
        {
          "output_type": "execute_result",
          "data": {
            "text/html": [
              "<div>\n",
              "<style scoped>\n",
              "    .dataframe tbody tr th:only-of-type {\n",
              "        vertical-align: middle;\n",
              "    }\n",
              "\n",
              "    .dataframe tbody tr th {\n",
              "        vertical-align: top;\n",
              "    }\n",
              "\n",
              "    .dataframe thead th {\n",
              "        text-align: right;\n",
              "    }\n",
              "</style>\n",
              "<table border=\"1\" class=\"dataframe\">\n",
              "  <thead>\n",
              "    <tr style=\"text-align: right;\">\n",
              "      <th></th>\n",
              "      <th>High</th>\n",
              "      <th>Low</th>\n",
              "      <th>Open</th>\n",
              "      <th>Close</th>\n",
              "      <th>Volume</th>\n",
              "      <th>Adj Close</th>\n",
              "    </tr>\n",
              "    <tr>\n",
              "      <th>Date</th>\n",
              "      <th></th>\n",
              "      <th></th>\n",
              "      <th></th>\n",
              "      <th></th>\n",
              "      <th></th>\n",
              "      <th></th>\n",
              "    </tr>\n",
              "  </thead>\n",
              "  <tbody>\n",
              "    <tr>\n",
              "      <th>2015-01-02</th>\n",
              "      <td>206.880005</td>\n",
              "      <td>204.179993</td>\n",
              "      <td>206.380005</td>\n",
              "      <td>205.429993</td>\n",
              "      <td>121465900.0</td>\n",
              "      <td>184.260223</td>\n",
              "    </tr>\n",
              "    <tr>\n",
              "      <th>2015-01-05</th>\n",
              "      <td>204.369995</td>\n",
              "      <td>201.350006</td>\n",
              "      <td>204.169998</td>\n",
              "      <td>201.720001</td>\n",
              "      <td>169632600.0</td>\n",
              "      <td>180.932541</td>\n",
              "    </tr>\n",
              "    <tr>\n",
              "      <th>2015-01-06</th>\n",
              "      <td>202.720001</td>\n",
              "      <td>198.860001</td>\n",
              "      <td>202.089996</td>\n",
              "      <td>199.820007</td>\n",
              "      <td>209151400.0</td>\n",
              "      <td>179.228363</td>\n",
              "    </tr>\n",
              "    <tr>\n",
              "      <th>2015-01-07</th>\n",
              "      <td>202.720001</td>\n",
              "      <td>200.880005</td>\n",
              "      <td>201.419998</td>\n",
              "      <td>202.309998</td>\n",
              "      <td>125346700.0</td>\n",
              "      <td>181.461731</td>\n",
              "    </tr>\n",
              "    <tr>\n",
              "      <th>2015-01-08</th>\n",
              "      <td>206.160004</td>\n",
              "      <td>203.990005</td>\n",
              "      <td>204.009995</td>\n",
              "      <td>205.899994</td>\n",
              "      <td>147217800.0</td>\n",
              "      <td>184.681763</td>\n",
              "    </tr>\n",
              "  </tbody>\n",
              "</table>\n",
              "</div>"
            ],
            "text/plain": [
              "                  High         Low  ...       Volume   Adj Close\n",
              "Date                                ...                         \n",
              "2015-01-02  206.880005  204.179993  ...  121465900.0  184.260223\n",
              "2015-01-05  204.369995  201.350006  ...  169632600.0  180.932541\n",
              "2015-01-06  202.720001  198.860001  ...  209151400.0  179.228363\n",
              "2015-01-07  202.720001  200.880005  ...  125346700.0  181.461731\n",
              "2015-01-08  206.160004  203.990005  ...  147217800.0  184.681763\n",
              "\n",
              "[5 rows x 6 columns]"
            ]
          },
          "metadata": {},
          "execution_count": 21
        }
      ],
      "source": [
        "# code for question 15\n",
        "spy_prices.head()"
      ]
    },
    {
      "cell_type": "code",
      "source": [
        "spy_prices.tail()"
      ],
      "metadata": {
        "colab": {
          "base_uri": "https://localhost:8080/",
          "height": 237
        },
        "id": "uQRF9o5b5V0F",
        "outputId": "afe19124-16a7-4834-90ff-8265bfc494e4"
      },
      "execution_count": null,
      "outputs": [
        {
          "output_type": "execute_result",
          "data": {
            "text/html": [
              "<div>\n",
              "<style scoped>\n",
              "    .dataframe tbody tr th:only-of-type {\n",
              "        vertical-align: middle;\n",
              "    }\n",
              "\n",
              "    .dataframe tbody tr th {\n",
              "        vertical-align: top;\n",
              "    }\n",
              "\n",
              "    .dataframe thead th {\n",
              "        text-align: right;\n",
              "    }\n",
              "</style>\n",
              "<table border=\"1\" class=\"dataframe\">\n",
              "  <thead>\n",
              "    <tr style=\"text-align: right;\">\n",
              "      <th></th>\n",
              "      <th>High</th>\n",
              "      <th>Low</th>\n",
              "      <th>Open</th>\n",
              "      <th>Close</th>\n",
              "      <th>Volume</th>\n",
              "      <th>Adj Close</th>\n",
              "    </tr>\n",
              "    <tr>\n",
              "      <th>Date</th>\n",
              "      <th></th>\n",
              "      <th></th>\n",
              "      <th></th>\n",
              "      <th></th>\n",
              "      <th></th>\n",
              "      <th></th>\n",
              "    </tr>\n",
              "  </thead>\n",
              "  <tbody>\n",
              "    <tr>\n",
              "      <th>2020-05-26</th>\n",
              "      <td>302.190002</td>\n",
              "      <td>295.459991</td>\n",
              "      <td>301.929993</td>\n",
              "      <td>299.079987</td>\n",
              "      <td>88951400.0</td>\n",
              "      <td>297.769623</td>\n",
              "    </tr>\n",
              "    <tr>\n",
              "      <th>2020-05-27</th>\n",
              "      <td>303.570007</td>\n",
              "      <td>296.869995</td>\n",
              "      <td>302.119995</td>\n",
              "      <td>303.529999</td>\n",
              "      <td>104817400.0</td>\n",
              "      <td>302.200134</td>\n",
              "    </tr>\n",
              "    <tr>\n",
              "      <th>2020-05-28</th>\n",
              "      <td>306.839996</td>\n",
              "      <td>302.239990</td>\n",
              "      <td>304.649994</td>\n",
              "      <td>302.970001</td>\n",
              "      <td>90405200.0</td>\n",
              "      <td>301.642609</td>\n",
              "    </tr>\n",
              "    <tr>\n",
              "      <th>2020-05-29</th>\n",
              "      <td>304.959991</td>\n",
              "      <td>299.470001</td>\n",
              "      <td>302.459991</td>\n",
              "      <td>304.320007</td>\n",
              "      <td>119265700.0</td>\n",
              "      <td>302.986694</td>\n",
              "    </tr>\n",
              "    <tr>\n",
              "      <th>2020-06-01</th>\n",
              "      <td>306.209991</td>\n",
              "      <td>303.059998</td>\n",
              "      <td>303.619995</td>\n",
              "      <td>305.549988</td>\n",
              "      <td>55758300.0</td>\n",
              "      <td>304.211273</td>\n",
              "    </tr>\n",
              "  </tbody>\n",
              "</table>\n",
              "</div>"
            ],
            "text/plain": [
              "                  High         Low  ...       Volume   Adj Close\n",
              "Date                                ...                         \n",
              "2020-05-26  302.190002  295.459991  ...   88951400.0  297.769623\n",
              "2020-05-27  303.570007  296.869995  ...  104817400.0  302.200134\n",
              "2020-05-28  306.839996  302.239990  ...   90405200.0  301.642609\n",
              "2020-05-29  304.959991  299.470001  ...  119265700.0  302.986694\n",
              "2020-06-01  306.209991  303.059998  ...   55758300.0  304.211273\n",
              "\n",
              "[5 rows x 6 columns]"
            ]
          },
          "metadata": {},
          "execution_count": 22
        }
      ]
    },
    {
      "cell_type": "markdown",
      "source": [
        "**a) The day's highest price, the day's lowerst price, the day's opening price, and the day's closing price and adjusted closing price are reported.**\n",
        "**b) The prices are reported from 01/02/2015 to 06/01/2020.**"
      ],
      "metadata": {
        "id": "X5ps4SkF4UIq"
      }
    },
    {
      "cell_type": "markdown",
      "metadata": {
        "id": "TFp7mS_MnNM-"
      },
      "source": [
        "### 16. Retain only the Adjusted Close price in the `spy_prices` `DataFrame`. Call the resulting `Series` `spy_adjclose`."
      ]
    },
    {
      "cell_type": "code",
      "execution_count": null,
      "metadata": {
        "id": "l_WOTP5inNM-"
      },
      "outputs": [],
      "source": [
        "# code for question 16\n",
        "spy_adjclose = spy_prices['Adj Close']"
      ]
    },
    {
      "cell_type": "markdown",
      "metadata": {
        "id": "v86SbYi4nNM-"
      },
      "source": [
        "### 17. Now, using the `pct_change` method in `pandas`, compute the returns on the Adjusted Close prices of SPY, and only retain the returns from '2019-01-01' to '2020-01-01'. Call the `Series` obtained `spy_returns`."
      ]
    },
    {
      "cell_type": "code",
      "execution_count": null,
      "metadata": {
        "id": "vXMCS31KnNM-"
      },
      "outputs": [],
      "source": [
        "# code for question 17\n",
        "spy_returns = spy_adjclose.pct_change()['2019-01-02':'2019-12-31']"
      ]
    },
    {
      "cell_type": "markdown",
      "metadata": {
        "id": "_5DzY4PpnNM-"
      },
      "source": [
        "### 18. Perform SVD on `returns` data that contain assets from the S&P 500. Retain the left singular vector corresponding to the largest singular value and call is `u_sigma1`."
      ]
    },
    {
      "cell_type": "code",
      "execution_count": null,
      "metadata": {
        "id": "3yMyQQuonNM_"
      },
      "outputs": [],
      "source": [
        "# code for question 18\n",
        "U, Sigma, V = la.svd(returns)"
      ]
    },
    {
      "cell_type": "code",
      "source": [
        "next(i for i,v in enumerate(U) if U.max() in v)"
      ],
      "metadata": {
        "colab": {
          "base_uri": "https://localhost:8080/"
        },
        "id": "ZBlv_UYsI7mR",
        "outputId": "7d111e7f-b98f-4b16-cf1c-afb4d2cc195a"
      },
      "execution_count": null,
      "outputs": [
        {
          "output_type": "execute_result",
          "data": {
            "text/plain": [
              "146"
            ]
          },
          "metadata": {},
          "execution_count": 26
        }
      ]
    },
    {
      "cell_type": "code",
      "source": [
        "u_sigma1 = U[146]"
      ],
      "metadata": {
        "id": "1mkJu8uxLrK7"
      },
      "execution_count": null,
      "outputs": []
    },
    {
      "cell_type": "markdown",
      "metadata": {
        "id": "HkCuH2HKnNM_"
      },
      "source": [
        "### 19. `u_sigma1` is thought to track the market. To test that, we will perform a regression of `spy_returns` against this first left singular vector by letting `y=spy_returns` and `x=u_sigma1` and computing\n",
        "\n",
        "### $$ y = \\beta_0 + \\beta_1 x$$\n",
        "### using least squares regression."
      ]
    },
    {
      "cell_type": "code",
      "source": [
        "df = pd.DataFrame({'u_sigma1':u_sigma1, 'spy_returns':spy_returns})\n",
        "reg3 = smf.ols('spy_returns~u_sigma1', data=df).fit()\n",
        "params = reg3.params\n",
        "resids = reg3.resid\n",
        "r2 = reg3.rsquared\n",
        "np.array(params), np.array(resids), np.array(r2)"
      ],
      "metadata": {
        "colab": {
          "base_uri": "https://localhost:8080/"
        },
        "id": "twbOLZQuM-4K",
        "outputId": "2ca3f2c3-0ba1-4cff-dd07-b1113ad37810"
      },
      "execution_count": null,
      "outputs": [
        {
          "output_type": "execute_result",
          "data": {
            "text/plain": [
              "(array([1.10941717e-03, 8.27783107e-05]),\n",
              " array([-8.00657005e-05, -2.49879622e-02,  3.23804214e-02,  6.77938937e-03,\n",
              "         8.28851430e-03,  3.54066568e-03,  2.40022118e-03, -7.62876467e-04,\n",
              "        -7.21983308e-03,  1.03383181e-02,  1.32201387e-03,  6.49353611e-03,\n",
              "         1.22078761e-02, -1.46243972e-02,  9.80789775e-04, -5.73543871e-04,\n",
              "         7.34807671e-03, -8.69291614e-03, -2.43476668e-03,  1.47323370e-02,\n",
              "         7.66124784e-03, -6.21206203e-04,  5.91445822e-03,  3.06991527e-03,\n",
              "        -2.43341546e-03, -1.06426777e-02,  1.15504152e-04, -5.48628319e-04,\n",
              "         1.17564893e-02,  2.14098137e-03, -3.32866114e-03,  9.78750258e-03,\n",
              "         6.23730283e-04,  9.05225329e-04, -4.66589862e-03,  5.09047618e-03,\n",
              "         2.50744170e-04, -1.83065136e-03, -1.53851901e-03, -2.96556577e-03,\n",
              "         5.13943022e-03, -4.73878554e-03, -2.48201020e-03, -7.16261480e-03,\n",
              "        -9.47356392e-03, -3.10605441e-03,  1.33955454e-02,  2.66126001e-03,\n",
              "         5.50689356e-03, -1.74989514e-03,  3.83408518e-03,  2.51391640e-03,\n",
              "        -8.66138367e-04, -4.12250395e-03,  1.01829804e-02, -2.03626124e-02,\n",
              "        -1.85773953e-03,  6.34206677e-03, -6.33579243e-03,  2.68128653e-03,\n",
              "         5.19312232e-03,  1.07537971e-02, -6.16993843e-04,  4.67313408e-04,\n",
              "         1.54354933e-03,  3.73113316e-03, -3.46871241e-04, -6.23504639e-03,\n",
              "         2.29775459e-03, -1.38745275e-03,  5.65226981e-03, -1.76306119e-03,\n",
              "        -4.56209041e-04, -3.56208002e-03,  8.64256961e-04, -2.49610787e-04,\n",
              "         7.89034810e-03, -3.32677338e-03, -1.72521492e-03,  3.55480758e-03,\n",
              "         4.59095173e-04, -5.95908572e-04, -8.62551104e-03, -3.26283157e-03,\n",
              "         8.67171708e-03, -5.21706708e-03, -1.78077900e-02, -2.50329607e-03,\n",
              "        -4.12991833e-03,  3.91411105e-03, -2.62478570e-02,  7.93175675e-03,\n",
              "         4.74287692e-03,  8.14651357e-03, -7.56999911e-03, -7.72210232e-03,\n",
              "         7.90457123e-03, -4.18202014e-03, -1.33238594e-02,  1.16068062e-03,\n",
              "        -1.04074470e-02, -7.82141978e-03,  1.62142714e-03, -1.45826118e-02,\n",
              "        -3.65648687e-03,  2.05938495e-02,  7.55818516e-03,  5.38727239e-03,\n",
              "         8.89823585e-03,  3.47865009e-03, -1.35268684e-03, -2.87687462e-03,\n",
              "         3.02005401e-03, -2.21719239e-03, -7.30754370e-04,  9.36418342e-03,\n",
              "         1.15009884e-03,  8.45329741e-03, -2.56409402e-03, -2.33583811e-03,\n",
              "        -1.09187324e-02, -2.10181729e-03,  2.43747974e-03,  4.03829215e-03,\n",
              "         7.96565120e-03,  1.49637912e-03,  6.88815399e-03, -2.24553882e-03,\n",
              "        -6.60347182e-03,  1.36343776e-04,  3.67163230e-03,  1.23323095e-03,\n",
              "         3.36564013e-03, -7.77892611e-04, -4.33127222e-03, -7.91551175e-03,\n",
              "         2.54988454e-03, -6.66705727e-03,  1.34831166e-03,  6.03507529e-03,\n",
              "         3.59352992e-03, -5.87839182e-03,  5.58832041e-03, -2.93017306e-03,\n",
              "        -3.56811405e-03, -1.20513054e-02, -9.82151940e-03, -8.64167404e-03,\n",
              "        -3.11815985e-02,  1.29083781e-02, -5.15768775e-04,  1.85134493e-02,\n",
              "        -7.92320541e-03, -1.32816205e-02,  1.44408825e-02, -3.06745171e-02,\n",
              "         1.53480335e-03,  1.36451448e-02,  1.09398042e-02, -8.77331380e-03,\n",
              "         7.02694651e-03, -1.41859734e-03, -2.67980483e-02,  9.94969236e-03,\n",
              "        -5.02645382e-03,  5.93321863e-03,  1.16599436e-02, -1.55837448e-03,\n",
              "        -6.95776166e-03,  1.02372744e-02,  1.17460980e-02, -3.34697676e-04,\n",
              "        -6.09636416e-04, -1.34790682e-03,  6.00072603e-03,  2.35337925e-03,\n",
              "        -1.77187960e-03, -4.19770019e-03,  1.42094849e-03, -5.13175426e-04,\n",
              "        -1.17505943e-03, -5.83785992e-03, -1.34081081e-03, -8.96083095e-03,\n",
              "         4.80377431e-03, -3.19010921e-03, -6.49613600e-03,  3.52935545e-03,\n",
              "        -1.30002894e-02, -1.87693717e-02,  7.08398384e-03,  1.24203834e-02,\n",
              "        -5.42253231e-03, -1.66327867e-02,  8.38634157e-03,  5.65508523e-03,\n",
              "         9.25681164e-03, -2.22742742e-03,  8.78630115e-03, -2.71511559e-03,\n",
              "         1.83964529e-03, -5.48852530e-03,  5.66662421e-03, -4.37217123e-03,\n",
              "         1.80134155e-03,  5.25390246e-04,  2.98454542e-03,  4.52728782e-03,\n",
              "        -1.40409737e-03,  1.95523663e-03, -3.77548380e-03,  8.15140556e-03,\n",
              "         2.90874097e-03, -2.21579284e-03, -8.81520370e-04,  2.41223979e-03,\n",
              "         1.35775694e-03, -3.01846907e-03,  9.98218640e-04, -7.86643464e-04,\n",
              "         3.46872391e-04,  6.12502879e-03, -3.72704900e-04, -1.39802485e-03,\n",
              "        -4.83076069e-03, -2.72132940e-03,  1.11419301e-03,  6.64106424e-03,\n",
              "         1.15493753e-03,  3.34739904e-03, -4.81820291e-03, -9.60280511e-03,\n",
              "        -7.81742066e-03,  5.06119958e-03,  6.85055949e-04,  8.02403889e-03,\n",
              "        -4.25145737e-03, -2.22100989e-03,  1.72812957e-03,  7.50779491e-03,\n",
              "        -5.13372382e-04,  5.75805284e-03, -8.89777261e-04, -1.05295653e-03,\n",
              "         2.99084568e-03,  3.27588340e-03,  4.20817061e-04, -1.07865219e-03,\n",
              "         4.21051239e-03, -1.35834278e-03, -6.62359284e-03,  1.31860909e-03]),\n",
              " array(4.35830298e-07))"
            ]
          },
          "metadata": {},
          "execution_count": 28
        }
      ]
    },
    {
      "cell_type": "markdown",
      "metadata": {
        "id": "zxmNw-JbnNM_"
      },
      "source": [
        "### 20. Plot the cumulative sum of the result from the regression on top of the cumulative sum of `spy_returns`. What do you notice?"
      ]
    },
    {
      "cell_type": "code",
      "execution_count": null,
      "metadata": {
        "colab": {
          "base_uri": "https://localhost:8080/",
          "height": 351
        },
        "id": "xS79f4jlnNM_",
        "outputId": "4453bf3e-7459-405b-eb5f-08d2d1596841"
      },
      "outputs": [
        {
          "output_type": "execute_result",
          "data": {
            "text/plain": [
              "<matplotlib.legend.Legend at 0x7fc92f42e190>"
            ]
          },
          "metadata": {},
          "execution_count": 29
        },
        {
          "output_type": "display_data",
          "data": {
            "image/png": "[encoded data removed]",
            "text/plain": [
              "<Figure size 720x360 with 1 Axes>"
            ]
          },
          "metadata": {
            "needs_background": "light"
          }
        }
      ],
      "source": [
        "# code for question 20\n",
        "df['yhat'] = reg3.predict()\n",
        "fig,ax = plt.subplots(figsize=(10,5))\n",
        "df['yhat'].cumsum().plot(ax=ax)\n",
        "df['spy_returns'].cumsum().plot(ax=ax)\n",
        "ax.legend()"
      ]
    },
    {
      "cell_type": "markdown",
      "metadata": {
        "id": "24VGa4CEnNM_"
      },
      "source": [
        "**The results of the regression are an increasing, linear predictor of actual cumulative returns. Actual cumulative returns do not appear to be linear, so this linear line of best fit has noticeable errors across most dates.**"
      ]
    },
    {
      "cell_type": "markdown",
      "metadata": {
        "id": "k6EW4ApVnNNA"
      },
      "source": [
        "# Congratulations! You have just implemented your first statistical Capital Asset Pricing Model (CAPM) to the S&P 500 market."
      ]
    }
  ],
  "metadata": {
    "colab": {
      "collapsed_sections": [],
      "name": "Sophie_Zhu_LinearAlgebra_project.ipynb",
      "provenance": [],
      "include_colab_link": true
    },
    "kernelspec": {
      "display_name": "Python 3",
      "language": "python",
      "name": "python3"
    },
    "language_info": {
      "codemirror_mode": {
        "name": "ipython",
        "version": 3
      },
      "file_extension": ".py",
      "mimetype": "text/x-python",
      "name": "python",
      "nbconvert_exporter": "python",
      "pygments_lexer": "ipython3",
      "version": "3.8.5"
    }
  },
  "nbformat": 4,
  "nbformat_minor": 0
}